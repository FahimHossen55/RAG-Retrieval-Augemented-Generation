{
  "nbformat": 4,
  "nbformat_minor": 0,
  "metadata": {
    "colab": {
      "provenance": [],
      "gpuType": "T4"
    },
    "kernelspec": {
      "name": "python3",
      "display_name": "Python 3"
    },
    "language_info": {
      "name": "python"
    },
    "accelerator": "GPU"
  },
  "cells": [
    {
      "cell_type": "markdown",
      "source": [
        "\n",
        "## **Realtime Multimodal RAG Usecase, Extract Image,Table,Text from Documents**\n",
        "### **Types of data :**\n",
        "1. Structure (CSV , tsv , xlxs)\n",
        "2. Semi-structure (json , XML , HTML, YAML)   \n",
        "3. Un-semistructure (text ,video , image , audio)  \n",
        "\n"
      ],
      "metadata": {
        "id": "dsG5uDm_szdN"
      }
    },
    {
      "cell_type": "code",
      "execution_count": null,
      "metadata": {
        "id": "kK0kBR_3sozx"
      },
      "outputs": [],
      "source": [
        "! pip install \"unstructured[all-docs]\" pillow pydantic lxml pillow matplotlib"
      ]
    },
    {
      "cell_type": "code",
      "source": [
        "!sudo apt-get install libleptonica-dev tesseract-ocr libtesseract-dev python3-pil tesseract-ocr-eng tesseract-ocr-script-latn\n"
      ],
      "metadata": {
        "id": "XifxAizLvVri"
      },
      "execution_count": null,
      "outputs": []
    },
    {
      "cell_type": "code",
      "source": [
        "!sudo apt-get install poppler-utils"
      ],
      "metadata": {
        "id": "5GPsZ489y9Ya"
      },
      "execution_count": null,
      "outputs": []
    },
    {
      "cell_type": "code",
      "source": [
        "!pip install unstructured-pytesseract\n",
        "!pip install tesseract-ocr  # gather information from image"
      ],
      "metadata": {
        "id": "mWlmwHIBvjk1"
      },
      "execution_count": null,
      "outputs": []
    },
    {
      "cell_type": "code",
      "source": [
        "from unstructured.partition.pdf import partition_pdf\n"
      ],
      "metadata": {
        "id": "72NmWbjewG5q"
      },
      "execution_count": null,
      "outputs": []
    },
    {
      "cell_type": "code",
      "source": [
        "raw_pdf_element =  partition_pdf(\n",
        "\n",
        "          filename=\"/content/data/Retrieval-Augmented Generation for Large Language Models A Survey.pdf\",               # mandatory\n",
        "    strategy=\"hi_res\",                                 # mandatory to use ``hi_res`` strategy\n",
        "    extract_images_in_pdf=True,                       # mandatory to set as ``True``\n",
        "    extract_image_block_types=[\"Image\", \"Table\"],          # optional\n",
        "    extract_image_block_to_payload=False,                  # optional\n",
        "    extract_image_block_output_dir=\"extracted\",  # optional - only works when ``extract_image_block_to_payload=False``\n",
        "    )\n"
      ],
      "metadata": {
        "id": "KSP58z-qwm6g"
      },
      "execution_count": null,
      "outputs": []
    },
    {
      "cell_type": "code",
      "source": [
        "!mkdir data"
      ],
      "metadata": {
        "id": "Rl56CdvKxv0X"
      },
      "execution_count": null,
      "outputs": []
    },
    {
      "cell_type": "code",
      "source": [
        "raw_pdf_element"
      ],
      "metadata": {
        "colab": {
          "base_uri": "https://localhost:8080/"
        },
        "id": "xBZHCek5x40A",
        "outputId": "2e3f993f-3656-415f-88af-fecc491285b1"
      },
      "execution_count": null,
      "outputs": [
        {
          "output_type": "execute_result",
          "data": {
            "text/plain": [
              "[<unstructured.documents.elements.Text at 0x7e34db0f4d00>,\n",
              " <unstructured.documents.elements.Header at 0x7e34dddbb820>,\n",
              " <unstructured.documents.elements.Title at 0x7e34dddbb370>,\n",
              " <unstructured.documents.elements.NarrativeText at 0x7e34dddb9180>,\n",
              " <unstructured.documents.elements.NarrativeText at 0x7e34dddbbf70>,\n",
              " <unstructured.documents.elements.NarrativeText at 0x7e34dddbac20>,\n",
              " <unstructured.documents.elements.NarrativeText at 0x7e34dddba7a0>,\n",
              " <unstructured.documents.elements.Title at 0x7e34db0f4c40>,\n",
              " <unstructured.documents.elements.NarrativeText at 0x7e34dddb88e0>,\n",
              " <unstructured.documents.elements.NarrativeText at 0x7e34dddbb8b0>,\n",
              " <unstructured.documents.elements.NarrativeText at 0x7e34dddb9a20>,\n",
              " <unstructured.documents.elements.NarrativeText at 0x7e34dddb9f60>,\n",
              " <unstructured.documents.elements.Title at 0x7e34db0f5ae0>,\n",
              " <unstructured.documents.elements.NarrativeText at 0x7e34db0f45b0>,\n",
              " <unstructured.documents.elements.Title at 0x7e34db0f4760>,\n",
              " <unstructured.documents.elements.Title at 0x7e34db0f47c0>,\n",
              " <unstructured.documents.elements.Title at 0x7e34db0f5300>,\n",
              " <unstructured.documents.elements.NarrativeText at 0x7e34db0f46d0>,\n",
              " <unstructured.documents.elements.Header at 0x7e34dddb8b50>,\n",
              " <unstructured.documents.elements.Image at 0x7e34dddb9a80>,\n",
              " <unstructured.documents.elements.FigureCaption at 0x7e34dddbab30>,\n",
              " <unstructured.documents.elements.NarrativeText at 0x7e34dddba620>,\n",
              " <unstructured.documents.elements.NarrativeText at 0x7e34dddb8a60>,\n",
              " <unstructured.documents.elements.ListItem at 0x7e34dddbbaf0>,\n",
              " <unstructured.documents.elements.ListItem at 0x7e34db0f6980>,\n",
              " <unstructured.documents.elements.Title at 0x7e34db0f7940>,\n",
              " <unstructured.documents.elements.NarrativeText at 0x7e34db0f5180>,\n",
              " <unstructured.documents.elements.NarrativeText at 0x7e34db0f4d30>,\n",
              " <unstructured.documents.elements.NarrativeText at 0x7e34db0f62c0>,\n",
              " <unstructured.documents.elements.Title at 0x7e34db0f7f40>,\n",
              " <unstructured.documents.elements.NarrativeText at 0x7e34db0f7850>,\n",
              " <unstructured.documents.elements.Header at 0x7e34dddb9930>,\n",
              " <unstructured.documents.elements.Image at 0x7e34db0f5420>,\n",
              " <unstructured.documents.elements.FigureCaption at 0x7e34db0f50f0>,\n",
              " <unstructured.documents.elements.NarrativeText at 0x7e34db0f5930>,\n",
              " <unstructured.documents.elements.NarrativeText at 0x7e34db0f7190>,\n",
              " <unstructured.documents.elements.NarrativeText at 0x7e34db0f4640>,\n",
              " <unstructured.documents.elements.NarrativeText at 0x7e34db0f7a60>,\n",
              " <unstructured.documents.elements.NarrativeText at 0x7e34db0f4670>,\n",
              " <unstructured.documents.elements.NarrativeText at 0x7e34db0f5060>,\n",
              " <unstructured.documents.elements.Title at 0x7e34db0f58a0>,\n",
              " <unstructured.documents.elements.NarrativeText at 0x7e34db0f47f0>,\n",
              " <unstructured.documents.elements.Header at 0x7e34db0f6c20>,\n",
              " <unstructured.documents.elements.Image at 0x7e34db0f6b60>,\n",
              " <unstructured.documents.elements.FigureCaption at 0x7e34db0f60e0>,\n",
              " <unstructured.documents.elements.NarrativeText at 0x7e34db0f6b30>,\n",
              " <unstructured.documents.elements.NarrativeText at 0x7e34dac0aaa0>,\n",
              " <unstructured.documents.elements.NarrativeText at 0x7e34dddbba90>,\n",
              " <unstructured.documents.elements.NarrativeText at 0x7e34db0f6f50>,\n",
              " <unstructured.documents.elements.NarrativeText at 0x7e34db0f4130>,\n",
              " <unstructured.documents.elements.NarrativeText at 0x7e34dddba8f0>,\n",
              " <unstructured.documents.elements.Header at 0x7e34db0f74c0>,\n",
              " <unstructured.documents.elements.NarrativeText at 0x7e34dac0b1f0>,\n",
              " <unstructured.documents.elements.NarrativeText at 0x7e34dac0abf0>,\n",
              " <unstructured.documents.elements.NarrativeText at 0x7e34dac0bc10>,\n",
              " <unstructured.documents.elements.NarrativeText at 0x7e34dac08df0>,\n",
              " <unstructured.documents.elements.Title at 0x7e34dac08310>,\n",
              " <unstructured.documents.elements.NarrativeText at 0x7e34dac09b70>,\n",
              " <unstructured.documents.elements.NarrativeText at 0x7e34dac0ab00>,\n",
              " <unstructured.documents.elements.NarrativeText at 0x7e34dac09ae0>,\n",
              " <unstructured.documents.elements.NarrativeText at 0x7e34dac0ba90>,\n",
              " <unstructured.documents.elements.Title at 0x7e34db0f5960>,\n",
              " <unstructured.documents.elements.NarrativeText at 0x7e34dac0a770>,\n",
              " <unstructured.documents.elements.Title at 0x7e34dac09a20>,\n",
              " <unstructured.documents.elements.NarrativeText at 0x7e34dac0afb0>,\n",
              " <unstructured.documents.elements.NarrativeText at 0x7e34dac0b250>,\n",
              " <unstructured.documents.elements.Header at 0x7e34dddb9f30>,\n",
              " <unstructured.documents.elements.FigureCaption at 0x7e34dac09a50>,\n",
              " <unstructured.documents.elements.Table at 0x7e34dac0b0d0>,\n",
              " <unstructured.documents.elements.Title at 0x7e34db0f6680>,\n",
              " <unstructured.documents.elements.Text at 0x7e34db0f4940>,\n",
              " <unstructured.documents.elements.Text at 0x7e34db0f66e0>,\n",
              " <unstructured.documents.elements.Text at 0x7e34db0f55a0>,\n",
              " <unstructured.documents.elements.Text at 0x7e34db0f48e0>,\n",
              " <unstructured.documents.elements.Text at 0x7e34db0f49a0>,\n",
              " <unstructured.documents.elements.Title at 0x7e34db0f7700>,\n",
              " <unstructured.documents.elements.Text at 0x7e34db0f5c90>,\n",
              " <unstructured.documents.elements.Header at 0x7e34dac0b2b0>,\n",
              " <unstructured.documents.elements.Image at 0x7e34db05f250>,\n",
              " <unstructured.documents.elements.FigureCaption at 0x7e34db05dab0>,\n",
              " <unstructured.documents.elements.NarrativeText at 0x7e34db05f700>,\n",
              " <unstructured.documents.elements.NarrativeText at 0x7e34db05e980>,\n",
              " <unstructured.documents.elements.NarrativeText at 0x7e34db05d090>,\n",
              " <unstructured.documents.elements.NarrativeText at 0x7e34db05c040>,\n",
              " <unstructured.documents.elements.NarrativeText at 0x7e34db05f130>,\n",
              " <unstructured.documents.elements.NarrativeText at 0x7e34db05eef0>,\n",
              " <unstructured.documents.elements.NarrativeText at 0x7e34db05f0a0>,\n",
              " <unstructured.documents.elements.Header at 0x7e34db05e3e0>,\n",
              " <unstructured.documents.elements.NarrativeText at 0x7e34db05d8a0>,\n",
              " <unstructured.documents.elements.NarrativeText at 0x7e34db05e950>,\n",
              " <unstructured.documents.elements.NarrativeText at 0x7e34db05da20>,\n",
              " <unstructured.documents.elements.NarrativeText at 0x7e34db05f310>,\n",
              " <unstructured.documents.elements.NarrativeText at 0x7e34db05cd30>,\n",
              " <unstructured.documents.elements.NarrativeText at 0x7e34db05ece0>,\n",
              " <unstructured.documents.elements.NarrativeText at 0x7e34db05d360>,\n",
              " <unstructured.documents.elements.NarrativeText at 0x7e34db05f550>,\n",
              " <unstructured.documents.elements.NarrativeText at 0x7e34db05d810>,\n",
              " <unstructured.documents.elements.NarrativeText at 0x7e34db05cb80>,\n",
              " <unstructured.documents.elements.NarrativeText at 0x7e34db05f9a0>,\n",
              " <unstructured.documents.elements.NarrativeText at 0x7e34db05da80>,\n",
              " <unstructured.documents.elements.NarrativeText at 0x7e34db05dcf0>,\n",
              " <unstructured.documents.elements.NarrativeText at 0x7e34db05d2a0>,\n",
              " <unstructured.documents.elements.NarrativeText at 0x7e34db05ecb0>,\n",
              " <unstructured.documents.elements.NarrativeText at 0x7e34db05c3a0>,\n",
              " <unstructured.documents.elements.Header at 0x7e34db05f670>,\n",
              " <unstructured.documents.elements.NarrativeText at 0x7e34db05fcd0>,\n",
              " <unstructured.documents.elements.NarrativeText at 0x7e34db05c940>,\n",
              " <unstructured.documents.elements.NarrativeText at 0x7e34db05f7c0>,\n",
              " <unstructured.documents.elements.NarrativeText at 0x7e34db05e8f0>,\n",
              " <unstructured.documents.elements.NarrativeText at 0x7e34db05cfd0>,\n",
              " <unstructured.documents.elements.NarrativeText at 0x7e34db05db10>,\n",
              " <unstructured.documents.elements.Title at 0x7e34db05e380>,\n",
              " <unstructured.documents.elements.NarrativeText at 0x7e34db05ec80>,\n",
              " <unstructured.documents.elements.NarrativeText at 0x7e34db772fb0>,\n",
              " <unstructured.documents.elements.NarrativeText at 0x7e34db772350>,\n",
              " <unstructured.documents.elements.NarrativeText at 0x7e34db05ce80>,\n",
              " <unstructured.documents.elements.NarrativeText at 0x7e34db05cc40>,\n",
              " <unstructured.documents.elements.NarrativeText at 0x7e34db05dc00>,\n",
              " <unstructured.documents.elements.Title at 0x7e34db05f610>,\n",
              " <unstructured.documents.elements.NarrativeText at 0x7e34db05f460>,\n",
              " <unstructured.documents.elements.NarrativeText at 0x7e34db773b20>,\n",
              " <unstructured.documents.elements.Header at 0x7e34db05f910>,\n",
              " <unstructured.documents.elements.NarrativeText at 0x7e34db772080>,\n",
              " <unstructured.documents.elements.Title at 0x7e34db772740>,\n",
              " <unstructured.documents.elements.NarrativeText at 0x7e34db771450>,\n",
              " <unstructured.documents.elements.Title at 0x7e34db773c10>,\n",
              " <unstructured.documents.elements.NarrativeText at 0x7e34db772770>,\n",
              " <unstructured.documents.elements.NarrativeText at 0x7e34db772680>,\n",
              " <unstructured.documents.elements.NarrativeText at 0x7e34db7729b0>,\n",
              " <unstructured.documents.elements.NarrativeText at 0x7e34db770910>,\n",
              " <unstructured.documents.elements.NarrativeText at 0x7e34db771870>,\n",
              " <unstructured.documents.elements.NarrativeText at 0x7e34db773df0>,\n",
              " <unstructured.documents.elements.Title at 0x7e34db7713c0>,\n",
              " <unstructured.documents.elements.NarrativeText at 0x7e34db7703a0>,\n",
              " <unstructured.documents.elements.NarrativeText at 0x7e34db7709a0>,\n",
              " <unstructured.documents.elements.NarrativeText at 0x7e34db773ee0>,\n",
              " <unstructured.documents.elements.Title at 0x7e34db0f59f0>,\n",
              " <unstructured.documents.elements.NarrativeText at 0x7e34db771570>,\n",
              " <unstructured.documents.elements.Title at 0x7e34db771060>,\n",
              " <unstructured.documents.elements.NarrativeText at 0x7e34db770310>,\n",
              " <unstructured.documents.elements.Header at 0x7e34db7708e0>,\n",
              " <unstructured.documents.elements.Image at 0x7e34db771090>,\n",
              " <unstructured.documents.elements.FigureCaption at 0x7e34db771210>,\n",
              " <unstructured.documents.elements.NarrativeText at 0x7e34db771f30>,\n",
              " <unstructured.documents.elements.Title at 0x7e34db773490>,\n",
              " <unstructured.documents.elements.NarrativeText at 0x7e34db7724d0>,\n",
              " <unstructured.documents.elements.NarrativeText at 0x7e34db7707c0>,\n",
              " <unstructured.documents.elements.NarrativeText at 0x7e34db772d40>,\n",
              " <unstructured.documents.elements.Title at 0x7e34db772e30>,\n",
              " <unstructured.documents.elements.NarrativeText at 0x7e34db773250>,\n",
              " <unstructured.documents.elements.NarrativeText at 0x7e34db773460>,\n",
              " <unstructured.documents.elements.NarrativeText at 0x7e34db773580>,\n",
              " <unstructured.documents.elements.Header at 0x7e34db7715a0>,\n",
              " <unstructured.documents.elements.NarrativeText at 0x7e34db771de0>,\n",
              " <unstructured.documents.elements.Title at 0x7e34db773760>,\n",
              " <unstructured.documents.elements.NarrativeText at 0x7e34db773910>,\n",
              " <unstructured.documents.elements.Title at 0x7e34db773af0>,\n",
              " <unstructured.documents.elements.NarrativeText at 0x7e34db771bd0>,\n",
              " <unstructured.documents.elements.Title at 0x7e34db7704f0>,\n",
              " <unstructured.documents.elements.NarrativeText at 0x7e34db6568c0>,\n",
              " <unstructured.documents.elements.NarrativeText at 0x7e34db655240>,\n",
              " <unstructured.documents.elements.NarrativeText at 0x7e34db0f5a80>,\n",
              " <unstructured.documents.elements.NarrativeText at 0x7e34db7705e0>,\n",
              " <unstructured.documents.elements.NarrativeText at 0x7e34db773610>,\n",
              " <unstructured.documents.elements.NarrativeText at 0x7e34db770160>,\n",
              " <unstructured.documents.elements.NarrativeText at 0x7e34db772410>,\n",
              " <unstructured.documents.elements.NarrativeText at 0x7e34db772ce0>,\n",
              " <unstructured.documents.elements.NarrativeText at 0x7e34db770dc0>,\n",
              " <unstructured.documents.elements.NarrativeText at 0x7e34db771c00>,\n",
              " <unstructured.documents.elements.NarrativeText at 0x7e34db654100>,\n",
              " <unstructured.documents.elements.NarrativeText at 0x7e34db6576a0>,\n",
              " <unstructured.documents.elements.NarrativeText at 0x7e34db655420>,\n",
              " <unstructured.documents.elements.NarrativeText at 0x7e34db656d70>,\n",
              " <unstructured.documents.elements.NarrativeText at 0x7e34db654790>,\n",
              " <unstructured.documents.elements.Header at 0x7e34db773ac0>,\n",
              " <unstructured.documents.elements.FigureCaption at 0x7e34db656470>,\n",
              " <unstructured.documents.elements.Title at 0x7e34db0f5ab0>,\n",
              " <unstructured.documents.elements.Title at 0x7e34db0f49d0>,\n",
              " <unstructured.documents.elements.Title at 0x7e34db0f5e10>,\n",
              " <unstructured.documents.elements.Title at 0x7e34db0f4a90>,\n",
              " <unstructured.documents.elements.Title at 0x7e34db0f6590>,\n",
              " <unstructured.documents.elements.Table at 0x7e34db656bc0>,\n",
              " <unstructured.documents.elements.Title at 0x7e34db0f7220>,\n",
              " <unstructured.documents.elements.Title at 0x7e34db0f67a0>,\n",
              " <unstructured.documents.elements.Title at 0x7e34db0f5210>,\n",
              " <unstructured.documents.elements.Title at 0x7e34db0f73d0>,\n",
              " <unstructured.documents.elements.Title at 0x7e34db0f5b10>,\n",
              " <unstructured.documents.elements.Title at 0x7e34db0f5bd0>,\n",
              " <unstructured.documents.elements.Title at 0x7e34db0f5390>,\n",
              " <unstructured.documents.elements.NarrativeText at 0x7e34db0f7130>,\n",
              " <unstructured.documents.elements.Text at 0x7e34db0f7ac0>,\n",
              " <unstructured.documents.elements.Title at 0x7e34db0f6080>,\n",
              " <unstructured.documents.elements.Title at 0x7e34db0f6050>,\n",
              " <unstructured.documents.elements.Title at 0x7e34db0f6a40>,\n",
              " <unstructured.documents.elements.Header at 0x7e34db6578e0>,\n",
              " <unstructured.documents.elements.FigureCaption at 0x7e34db655900>,\n",
              " <unstructured.documents.elements.Table at 0x7e34db655600>,\n",
              " <unstructured.documents.elements.NarrativeText at 0x7e34db657490>,\n",
              " <unstructured.documents.elements.Title at 0x7e34db6550c0>,\n",
              " <unstructured.documents.elements.NarrativeText at 0x7e34db655c60>,\n",
              " <unstructured.documents.elements.Title at 0x7e34db32b580>,\n",
              " <unstructured.documents.elements.NarrativeText at 0x7e34db32b6d0>,\n",
              " <unstructured.documents.elements.Title at 0x7e34db3284c0>,\n",
              " <unstructured.documents.elements.NarrativeText at 0x7e34db32b340>,\n",
              " <unstructured.documents.elements.Footer at 0x7e34db32abf0>,\n",
              " <unstructured.documents.elements.NarrativeText at 0x7e34db654760>,\n",
              " <unstructured.documents.elements.Title at 0x7e34db32a230>,\n",
              " <unstructured.documents.elements.NarrativeText at 0x7e34db329d50>,\n",
              " <unstructured.documents.elements.Title at 0x7e34db32b160>,\n",
              " <unstructured.documents.elements.NarrativeText at 0x7e34db3293f0>,\n",
              " <unstructured.documents.elements.Header at 0x7e34db657b80>,\n",
              " <unstructured.documents.elements.FigureCaption at 0x7e34db32b250>,\n",
              " <unstructured.documents.elements.Table at 0x7e34db329000>,\n",
              " <unstructured.documents.elements.NarrativeText at 0x7e34db3295d0>,\n",
              " <unstructured.documents.elements.NarrativeText at 0x7e34db328fd0>,\n",
              " <unstructured.documents.elements.Title at 0x7e34db328e20>,\n",
              " <unstructured.documents.elements.NarrativeText at 0x7e34db3282e0>,\n",
              " <unstructured.documents.elements.Title at 0x7e34db328b50>,\n",
              " <unstructured.documents.elements.NarrativeText at 0x7e34db328640>,\n",
              " <unstructured.documents.elements.NarrativeText at 0x7e34db3283d0>,\n",
              " <unstructured.documents.elements.NarrativeText at 0x7e34db0f5d50>,\n",
              " <unstructured.documents.elements.Title at 0x7e34db0f73a0>,\n",
              " <unstructured.documents.elements.Title at 0x7e34db0f5d80>,\n",
              " <unstructured.documents.elements.Header at 0x7e34db328070>,\n",
              " <unstructured.documents.elements.Image at 0x7e34db32aaa0>,\n",
              " <unstructured.documents.elements.FigureCaption at 0x7e34db32ae00>,\n",
              " <unstructured.documents.elements.NarrativeText at 0x7e34db32a410>,\n",
              " <unstructured.documents.elements.NarrativeText at 0x7e34db32bc10>,\n",
              " <unstructured.documents.elements.NarrativeText at 0x7e34db32b3d0>,\n",
              " <unstructured.documents.elements.NarrativeText at 0x7e34db329540>,\n",
              " <unstructured.documents.elements.Title at 0x7e34db328df0>,\n",
              " <unstructured.documents.elements.NarrativeText at 0x7e34db32b0a0>,\n",
              " <unstructured.documents.elements.NarrativeText at 0x7e34db329270>,\n",
              " <unstructured.documents.elements.NarrativeText at 0x7e34db32b9a0>,\n",
              " <unstructured.documents.elements.Title at 0x7e34db0f7970>,\n",
              " <unstructured.documents.elements.NarrativeText at 0x7e34db329f30>,\n",
              " <unstructured.documents.elements.Header at 0x7e34db32bb50>,\n",
              " <unstructured.documents.elements.NarrativeText at 0x7e34db329840>,\n",
              " <unstructured.documents.elements.Title at 0x7e34db0f69e0>,\n",
              " <unstructured.documents.elements.ListItem at 0x7e34db328220>,\n",
              " <unstructured.documents.elements.ListItem at 0x7e34db32b550>,\n",
              " <unstructured.documents.elements.ListItem at 0x7e34db75cbb0>,\n",
              " <unstructured.documents.elements.NarrativeText at 0x7e34db0f7a90>,\n",
              " <unstructured.documents.elements.ListItem at 0x7e34db75d150>,\n",
              " <unstructured.documents.elements.ListItem at 0x7e34db75d870>,\n",
              " <unstructured.documents.elements.ListItem at 0x7e34db75f7f0>,\n",
              " <unstructured.documents.elements.ListItem at 0x7e34db75fa90>,\n",
              " <unstructured.documents.elements.NarrativeText at 0x7e34db0f7160>,\n",
              " <unstructured.documents.elements.Title at 0x7e34db0f6fb0>,\n",
              " <unstructured.documents.elements.NarrativeText at 0x7e34db0f7a30>,\n",
              " <unstructured.documents.elements.ListItem at 0x7e34db75c730>,\n",
              " <unstructured.documents.elements.ListItem at 0x7e34db75e1a0>,\n",
              " <unstructured.documents.elements.ListItem at 0x7e34db75cd60>,\n",
              " <unstructured.documents.elements.ListItem at 0x7e34db32b4f0>,\n",
              " <unstructured.documents.elements.ListItem at 0x7e34db329fc0>,\n",
              " <unstructured.documents.elements.ListItem at 0x7e34db32bb80>,\n",
              " <unstructured.documents.elements.ListItem at 0x7e34db32b460>,\n",
              " <unstructured.documents.elements.ListItem at 0x7e34db3292d0>,\n",
              " <unstructured.documents.elements.ListItem at 0x7e34db328ca0>,\n",
              " <unstructured.documents.elements.ListItem at 0x7e34db75dae0>,\n",
              " <unstructured.documents.elements.ListItem at 0x7e34db75d360>,\n",
              " <unstructured.documents.elements.ListItem at 0x7e34db75de40>,\n",
              " <unstructured.documents.elements.ListItem at 0x7e34db75f370>,\n",
              " <unstructured.documents.elements.ListItem at 0x7e34db75dff0>,\n",
              " <unstructured.documents.elements.ListItem at 0x7e34db75fdc0>,\n",
              " <unstructured.documents.elements.NarrativeText at 0x7e34db0f5ed0>,\n",
              " <unstructured.documents.elements.ListItem at 0x7e34db75d7e0>,\n",
              " <unstructured.documents.elements.ListItem at 0x7e34db75f040>,\n",
              " <unstructured.documents.elements.ListItem at 0x7e34db75e020>,\n",
              " <unstructured.documents.elements.ListItem at 0x7e34db75e890>,\n",
              " <unstructured.documents.elements.NarrativeText at 0x7e34db0f5f90>,\n",
              " <unstructured.documents.elements.NarrativeText at 0x7e34db0f6d10>,\n",
              " <unstructured.documents.elements.ListItem at 0x7e34db75f5e0>,\n",
              " <unstructured.documents.elements.ListItem at 0x7e34db75d2d0>,\n",
              " <unstructured.documents.elements.ListItem at 0x7e34db75ea10>,\n",
              " <unstructured.documents.elements.Header at 0x7e34db328dc0>,\n",
              " <unstructured.documents.elements.ListItem at 0x7e34db75d540>,\n",
              " <unstructured.documents.elements.ListItem at 0x7e34db75fa60>,\n",
              " <unstructured.documents.elements.ListItem at 0x7e34db75c850>,\n",
              " <unstructured.documents.elements.ListItem at 0x7e34db75d780>,\n",
              " <unstructured.documents.elements.ListItem at 0x7e34db75fc40>,\n",
              " <unstructured.documents.elements.ListItem at 0x7e34db75cc40>,\n",
              " <unstructured.documents.elements.ListItem at 0x7e34ddc756c0>,\n",
              " <unstructured.documents.elements.NarrativeText at 0x7e34db0f7be0>,\n",
              " <unstructured.documents.elements.ListItem at 0x7e34ddc77820>,\n",
              " <unstructured.documents.elements.ListItem at 0x7e34ddc777f0>,\n",
              " <unstructured.documents.elements.NarrativeText at 0x7e34db0f6320>,\n",
              " <unstructured.documents.elements.ListItem at 0x7e34db1a6f20>,\n",
              " <unstructured.documents.elements.ListItem at 0x7e34db1a5780>,\n",
              " <unstructured.documents.elements.ListItem at 0x7e34db1a5a80>,\n",
              " <unstructured.documents.elements.ListItem at 0x7e34db1a6a10>,\n",
              " <unstructured.documents.elements.NarrativeText at 0x7e34db0f4070>,\n",
              " <unstructured.documents.elements.ListItem at 0x7e34db1a43d0>,\n",
              " <unstructured.documents.elements.ListItem at 0x7e34db1a61d0>,\n",
              " <unstructured.documents.elements.ListItem at 0x7e34db1a45b0>,\n",
              " <unstructured.documents.elements.Header at 0x7e34db75d3c0>,\n",
              " <unstructured.documents.elements.ListItem at 0x7e34db75f460>,\n",
              " <unstructured.documents.elements.NarrativeText at 0x7e34db0f53f0>,\n",
              " <unstructured.documents.elements.ListItem at 0x7e34db75da50>,\n",
              " <unstructured.documents.elements.ListItem at 0x7e34db75f5b0>,\n",
              " <unstructured.documents.elements.ListItem at 0x7e34db75d9c0>,\n",
              " <unstructured.documents.elements.ListItem at 0x7e34ddc75570>,\n",
              " <unstructured.documents.elements.ListItem at 0x7e34ddc75de0>,\n",
              " <unstructured.documents.elements.ListItem at 0x7e34ddc757e0>,\n",
              " <unstructured.documents.elements.ListItem at 0x7e34ddc76ec0>,\n",
              " <unstructured.documents.elements.ListItem at 0x7e34ddc74f40>,\n",
              " <unstructured.documents.elements.ListItem at 0x7e34ddc746a0>,\n",
              " <unstructured.documents.elements.ListItem at 0x7e34ddcd9090>,\n",
              " <unstructured.documents.elements.ListItem at 0x7e34ddcd9570>,\n",
              " <unstructured.documents.elements.ListItem at 0x7e34ddcd80d0>,\n",
              " <unstructured.documents.elements.ListItem at 0x7e34db1a4850>,\n",
              " <unstructured.documents.elements.ListItem at 0x7e34db1a58a0>,\n",
              " <unstructured.documents.elements.ListItem at 0x7e34db1a5990>,\n",
              " <unstructured.documents.elements.ListItem at 0x7e34db1a7940>,\n",
              " <unstructured.documents.elements.NarrativeText at 0x7e34db0f4280>,\n",
              " <unstructured.documents.elements.ListItem at 0x7e34db1a4460>,\n",
              " <unstructured.documents.elements.ListItem at 0x7e34db1a7eb0>,\n",
              " <unstructured.documents.elements.ListItem at 0x7e34db1a4160>,\n",
              " <unstructured.documents.elements.ListItem at 0x7e34db1a6800>,\n",
              " <unstructured.documents.elements.ListItem at 0x7e34db2adcf0>,\n",
              " <unstructured.documents.elements.ListItem at 0x7e34db2aefb0>,\n",
              " <unstructured.documents.elements.ListItem at 0x7e34db2afe80>,\n",
              " <unstructured.documents.elements.ListItem at 0x7e34db2af100>,\n",
              " <unstructured.documents.elements.ListItem at 0x7e34db2aeef0>,\n",
              " <unstructured.documents.elements.ListItem at 0x7e34db2aecb0>,\n",
              " <unstructured.documents.elements.ListItem at 0x7e34db2ac9a0>,\n",
              " <unstructured.documents.elements.ListItem at 0x7e34db2ac820>,\n",
              " <unstructured.documents.elements.NarrativeText at 0x7e34db0f7280>,\n",
              " <unstructured.documents.elements.ListItem at 0x7e34db2ad690>,\n",
              " <unstructured.documents.elements.ListItem at 0x7e34db2ae2f0>,\n",
              " <unstructured.documents.elements.ListItem at 0x7e34db2ac0a0>,\n",
              " <unstructured.documents.elements.ListItem at 0x7e34db2afb50>,\n",
              " <unstructured.documents.elements.ListItem at 0x7e34db2ad6c0>,\n",
              " <unstructured.documents.elements.ListItem at 0x7e34db2af940>,\n",
              " <unstructured.documents.elements.ListItem at 0x7e34df8b5120>,\n",
              " <unstructured.documents.elements.ListItem at 0x7e34dae5a080>,\n",
              " <unstructured.documents.elements.ListItem at 0x7e34dae59420>,\n",
              " <unstructured.documents.elements.ListItem at 0x7e34dae5bfd0>,\n",
              " <unstructured.documents.elements.NarrativeText at 0x7e34db1a6740>,\n",
              " <unstructured.documents.elements.ListItem at 0x7e34db1a4b20>,\n",
              " <unstructured.documents.elements.ListItem at 0x7e34db1a42e0>,\n",
              " <unstructured.documents.elements.ListItem at 0x7e34db2ac910>,\n",
              " <unstructured.documents.elements.ListItem at 0x7e34db2ac790>,\n",
              " <unstructured.documents.elements.ListItem at 0x7e34db2accd0>,\n",
              " <unstructured.documents.elements.ListItem at 0x7e34db2ae800>,\n",
              " <unstructured.documents.elements.ListItem at 0x7e34db2ae320>,\n",
              " <unstructured.documents.elements.ListItem at 0x7e34db2ad120>,\n",
              " <unstructured.documents.elements.ListItem at 0x7e34db2ad9f0>,\n",
              " <unstructured.documents.elements.ListItem at 0x7e34db2acc40>,\n",
              " <unstructured.documents.elements.ListItem at 0x7e34db2aca90>,\n",
              " <unstructured.documents.elements.ListItem at 0x7e34db2ae500>,\n",
              " <unstructured.documents.elements.ListItem at 0x7e34db2aea10>,\n",
              " <unstructured.documents.elements.ListItem at 0x7e34db2ad930>,\n",
              " <unstructured.documents.elements.ListItem at 0x7e34db2afc10>,\n",
              " <unstructured.documents.elements.ListItem at 0x7e34db2ad540>,\n",
              " <unstructured.documents.elements.NarrativeText at 0x7e34db0f7370>,\n",
              " <unstructured.documents.elements.ListItem at 0x7e34db2ad810>,\n",
              " <unstructured.documents.elements.ListItem at 0x7e34db2aff10>,\n",
              " <unstructured.documents.elements.NarrativeText at 0x7e34db0f6290>,\n",
              " <unstructured.documents.elements.ListItem at 0x7e34dae5bb20>,\n",
              " <unstructured.documents.elements.ListItem at 0x7e34dae584c0>,\n",
              " <unstructured.documents.elements.Header at 0x7e34db1a7610>,\n",
              " <unstructured.documents.elements.NarrativeText at 0x7e34dae581c0>,\n",
              " <unstructured.documents.elements.ListItem at 0x7e34dae588b0>,\n",
              " <unstructured.documents.elements.ListItem at 0x7e34dae5a9b0>,\n",
              " <unstructured.documents.elements.ListItem at 0x7e34dae5b4c0>,\n",
              " <unstructured.documents.elements.ListItem at 0x7e34dae5b370>,\n",
              " <unstructured.documents.elements.ListItem at 0x7e34dae5ae00>,\n",
              " <unstructured.documents.elements.ListItem at 0x7e34dae5a860>,\n",
              " <unstructured.documents.elements.ListItem at 0x7e34dae585e0>,\n",
              " <unstructured.documents.elements.ListItem at 0x7e34dae5b700>,\n",
              " <unstructured.documents.elements.ListItem at 0x7e34dae58040>,\n",
              " <unstructured.documents.elements.ListItem at 0x7e34dae5b430>,\n",
              " <unstructured.documents.elements.ListItem at 0x7e34dae5a620>,\n",
              " <unstructured.documents.elements.ListItem at 0x7e34dae59cc0>,\n",
              " <unstructured.documents.elements.ListItem at 0x7e34dae58670>,\n",
              " <unstructured.documents.elements.ListItem at 0x7e34dae58be0>,\n",
              " <unstructured.documents.elements.ListItem at 0x7e34dae59b10>,\n",
              " <unstructured.documents.elements.NarrativeText at 0x7e34db0f6230>,\n",
              " <unstructured.documents.elements.ListItem at 0x7e34dae5a950>,\n",
              " <unstructured.documents.elements.NarrativeText at 0x7e34db0f4f10>,\n",
              " <unstructured.documents.elements.NarrativeText at 0x7e34db0f74f0>,\n",
              " <unstructured.documents.elements.ListItem at 0x7e34dae5ad40>,\n",
              " <unstructured.documents.elements.NarrativeText at 0x7e34db0f7490>,\n",
              " <unstructured.documents.elements.ListItem at 0x7e34dae58c70>,\n",
              " <unstructured.documents.elements.ListItem at 0x7e34dae5bc70>,\n",
              " <unstructured.documents.elements.ListItem at 0x7e34dae5bdf0>,\n",
              " <unstructured.documents.elements.ListItem at 0x7e34dae5a800>,\n",
              " <unstructured.documents.elements.ListItem at 0x7e34dae59120>,\n",
              " <unstructured.documents.elements.Text at 0x7e34db0f6170>,\n",
              " <unstructured.documents.elements.ListItem at 0x7e34dae5a710>,\n",
              " <unstructured.documents.elements.ListItem at 0x7e34dae58310>,\n",
              " <unstructured.documents.elements.ListItem at 0x7e34dae590f0>,\n",
              " <unstructured.documents.elements.ListItem at 0x7e34dae5bbb0>,\n",
              " <unstructured.documents.elements.ListItem at 0x7e34dae58bb0>,\n",
              " <unstructured.documents.elements.ListItem at 0x7e34dae59030>,\n",
              " <unstructured.documents.elements.ListItem at 0x7e34dae580d0>,\n",
              " <unstructured.documents.elements.ListItem at 0x7e34dae59150>,\n",
              " <unstructured.documents.elements.NarrativeText at 0x7e34db0f6200>,\n",
              " <unstructured.documents.elements.ListItem at 0x7e34dae595a0>,\n",
              " <unstructured.documents.elements.ListItem at 0x7e34dae59390>,\n",
              " <unstructured.documents.elements.ListItem at 0x7e34dae5b250>,\n",
              " <unstructured.documents.elements.ListItem at 0x7e34db227040>,\n",
              " <unstructured.documents.elements.ListItem at 0x7e34db226320>,\n",
              " <unstructured.documents.elements.Header at 0x7e34dae58130>,\n",
              " <unstructured.documents.elements.ListItem at 0x7e34db2279d0>,\n",
              " <unstructured.documents.elements.ListItem at 0x7e34db226fb0>,\n",
              " <unstructured.documents.elements.Header at 0x7e34db224ac0>]"
            ]
          },
          "metadata": {},
          "execution_count": 16
        }
      ]
    },
    {
      "cell_type": "code",
      "source": [
        "img=[]\n",
        "for element in raw_pdf_element:\n",
        "  if \"unstructured.documents.elements.Image\" in str(type(element)):\n",
        "            img.append(str(element))"
      ],
      "metadata": {
        "id": "vy4XquSc0Hdw"
      },
      "execution_count": null,
      "outputs": []
    },
    {
      "cell_type": "code",
      "source": [
        "img[1]"
      ],
      "metadata": {
        "colab": {
          "base_uri": "https://localhost:8080/",
          "height": 218
        },
        "id": "OL4nYDSl21Mu",
        "outputId": "d316c8f2-23b0-484b-c1cd-52337a531aca"
      },
      "execution_count": null,
      "outputs": [
        {
          "output_type": "execute_result",
          "data": {
            "text/plain": [
              "'Output am unable to future events. any inform: ae LLM Question (CY wit RAG == === === | .aThis suggests significant internal | ‘| disagreements within Opendl regarding: 1 |the company\\'s future direction and Opendls CEO, | and rehiring 1 \\'strategic decisions. All of these twists + cnet \\' Vand turns reflect power struggles and: ! Chunk 3: \\' | corporate governance issues within + !Opendl How do you evaluate the fact that Opendl\\'s CEO, Sam Altman, went through a sudden dismissal by the board in just three days, and then was rehired by the company, resembling a real-life version of \"Game of Thrones\" in terms of power dynamics? | How do you evaluate the fact that the | } .. dynamics? { ! Please answer the above questions + | based on the following information: | Combine Context and Prompts Indexing Chunk 1: \"Sam Altman Returns to \\' OpenAl as CEO, Silicon Valley Drama! Resembles the \\'Zhen Huan’ Comedy\" | Chunk 2: \"The Drama Concludes? Sam | Altman to Return as CEO of Opendl, | Board to Undergo Restructuring} Opendl Comes to an End: Who Won Chunk 3: \"The Personnel Turmoil at! and Who Lost?’ 7'"
            ],
            "application/vnd.google.colaboratory.intrinsic+json": {
              "type": "string"
            }
          },
          "metadata": {},
          "execution_count": 20
        }
      ]
    },
    {
      "cell_type": "code",
      "source": [
        "img[2]"
      ],
      "metadata": {
        "colab": {
          "base_uri": "https://localhost:8080/",
          "height": 109
        },
        "id": "mfZcqNk27363",
        "outputId": "e01b957e-93eb-4dd5-c4d6-d6f3fe05707d"
      },
      "execution_count": 21,
      "outputs": [
        {
          "output_type": "execute_result",
          "data": {
            "text/plain": [
              "\"Modules = yy S = 5S A RICE A kA||e@bs - ~ User Query Documents User Query Documents Routing Predict r r | J | ' w--{ Retrieve )--~, ' ri \\\\ ' Pre-Retrieval ql h i i , * aay Pong - i ' Indexing ceey cones Indexing ! RAG ! “+ Query Expansion 1 ! ' ' ' ‘ ' { 5 ' Post-Retrieval xX tlle Rerank — Summery sion Prompt Frozen LLM Prompt Frozen LLM Output Output NalveRAG AdvancedRAG — wnettebsta.cme) (Staves SE] Naive RAG Advanced RAG Modular RAG\""
            ],
            "application/vnd.google.colaboratory.intrinsic+json": {
              "type": "string"
            }
          },
          "metadata": {},
          "execution_count": 21
        }
      ]
    },
    {
      "cell_type": "code",
      "source": [
        "tab=[]\n",
        "for element in raw_pdf_element:\n",
        "  if \"unstructured.documents.elements.Table\" in str(type(element)):\n",
        "            tab.append(str(element))"
      ],
      "metadata": {
        "id": "IsB0Mln176dS"
      },
      "execution_count": 23,
      "outputs": []
    },
    {
      "cell_type": "code",
      "source": [
        "tab[1]"
      ],
      "metadata": {
        "colab": {
          "base_uri": "https://localhost:8080/",
          "height": 218
        },
        "id": "8kiFkVKD8f44",
        "outputId": "f10270cd-78e8-456e-9422-7650174ecbb5"
      },
      "execution_count": 24,
      "outputs": [
        {
          "output_type": "execute_result",
          "data": {
            "text/plain": [
              "'Single-hop Natural Qustion(NQ) [111] TriviaQA(TQA) [113] SQuAD [114] Web Questions(WebQ) [115] PopQA [116] MS MARCO [117] Multi-hop HotpotQA [118] 2WikiMultiHopQA [119] MuSiQue [120] Long-form QA ELI5 [121] NarrativeQA(NQA) [122] ASQA [124] QMSum(QM) [125] Domain QA Qasper [126] COVID-QA [127] CMB [128],MMCU Medical [129] Multi-Choice QA QuALITY [130] ARC [131] CommonsenseQA [132] Graph QA GraphQA [84] Dialog Generation Personal Dialog Task-oriented Dialog Recommendation Wizard of Wikipedia (WoW) [133] KBP [134] DuleMon [136] CamRest [137] Amazon(Toys,Sport,Beauty) [138] Event Argument Extraction WikiEvent [139] Relation Extraction RAMS [140] T-REx [141],ZsRE [142] CoT Reasoning Complex Reasoning HellaSwag [143] CoT Reasoning [144] CSQA [145] Language Understanding Language Modeling Fact Checking/Verification [26], [30], [34], [42], [45], [50], [52], [59], [64], [82] [3], [4], [22], [27], [40], [43], [54], [62], [71], [112] [20], [44], [72] [13], [30], [34], [45], [50], [64] [4], [27], [59], [62], [112] [22], [25], [43], [44], [71], [72] [20], [23], [30], [32], [45], [69], [112] [3], [4], [13], [30], [50], [68] [7], [25], [67] [4], [40], [52] [23], [26], [31], [34], [47], [51], [61], [82] [7], [14], [22], [27], [59], [62], [69], [71], [91] [14], [24], [48], [59], [61], [91] [14], [51], [61], [91] [27], [34], [43], [49], [51] [45], [60], [63], [123] [24], [57] [60], [123] [60], [63] [35], [46] [81] [60], [63] [25], [67] [58], [66] [84] [13], [27], [34], [42] [74], [135] [74] [78], [79] [39], [40] [13], [27], [37], [42] [36], [37] [27], [51] [20], [66] [27] [55]'"
            ],
            "application/vnd.google.colaboratory.intrinsic+json": {
              "type": "string"
            }
          },
          "metadata": {},
          "execution_count": 24
        }
      ]
    },
    {
      "cell_type": "code",
      "source": [
        "Header=[]\n",
        "Footer=[]\n",
        "Title=[]\n",
        "NarrativeText=[]\n",
        "Text=[]\n",
        "ListItem=[]\n",
        "for element in raw_pdf_element:\n",
        "  if \"unstructured.documents.elements.Header\" in str(type(element)):\n",
        "            Header.append(str(element))\n",
        "  elif \"unstructured.documents.elements.Footer\" in str(type(element)):\n",
        "            Footer.append(str(element))\n",
        "  elif \"unstructured.documents.elements.Title\" in str(type(element)):\n",
        "            Title.append(str(element))\n",
        "  elif \"unstructured.documents.elements.NarrativeText\" in str(type(element)):\n",
        "            NarrativeText.append(str(element))\n",
        "  elif \"unstructured.documents.elements.Text\" in str(type(element)):\n",
        "            Text.append(str(element))\n",
        "  elif \"unstructured.documents.elements.ListItem\" in str(type(element)):\n",
        "            ListItem.append(str(element))"
      ],
      "metadata": {
        "id": "X5mOabku8ixy"
      },
      "execution_count": 26,
      "outputs": []
    },
    {
      "cell_type": "code",
      "source": [],
      "metadata": {
        "id": "H1Qgws968q1V"
      },
      "execution_count": null,
      "outputs": []
    }
  ]
}