{
  "nbformat": 4,
  "nbformat_minor": 0,
  "metadata": {
    "colab": {
      "provenance": []
    },
    "kernelspec": {
      "name": "python3",
      "display_name": "Python 3"
    },
    "language_info": {
      "name": "python"
    }
  },
  "cells": [
    {
      "cell_type": "markdown",
      "source": [
        "**What is MultiModel RAG ?**\n",
        "----\n",
        "MultiModel RAG is AI systems that can understand different modalities like images , audio , video , and text.\n",
        "it enables AI systems to process and integrate data from numerous modelities such as text , images , audio and video. <br>\n",
        "**Multimodel Embedding and Generation**\n",
        "----\n",
        "\n",
        "For Image embedding - > CLIP , flamingo"
      ],
      "metadata": {
        "id": "lw1v_3uGMQwr"
      }
    },
    {
      "cell_type": "markdown",
      "source": [
        "## **UseCases of Multimodel RAG**\n",
        "1. **Video processing**\n",
        "2. **Doc-Processing (Text , Img , Table)**\n",
        "3. **Image Captioning**\n"
      ],
      "metadata": {
        "id": "B4WhmyzrUly-"
      }
    },
    {
      "cell_type": "code",
      "execution_count": null,
      "metadata": {
        "id": "g24bfSvyIt-6"
      },
      "outputs": [],
      "source": []
    }
  ]
}