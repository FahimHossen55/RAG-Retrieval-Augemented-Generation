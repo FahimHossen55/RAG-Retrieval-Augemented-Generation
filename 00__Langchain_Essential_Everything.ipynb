{
  "cells": [
    {
      "cell_type": "markdown",
      "metadata": {
        "id": "gTFDfzDVdulC"
      },
      "source": [
        "- **Langchain**\n",
        "- **langServer**  \n",
        "- **Langraph**\n",
        "- **Langsmith**"
      ]
    },
    {
      "cell_type": "markdown",
      "metadata": {
        "id": "dSxl0ILMmKWX"
      },
      "source": [
        "# **Langchain :**\n",
        "1. **LCEl- Langchain expression language**\n",
        "2. **Prompt Template**\n",
        "3. **message**\n",
        "4.**Output parser**\n",
        "5. **Third party Intregation** ( intregrating API)  \n",
        "6. **Embedding Model**\n",
        "7. **Doc loader**\n",
        "8. **TextSplitter**\n",
        "9. **Vector Storage**\n",
        "10. **Retrieval Technique**\n",
        "11. **memory**\n",
        "12. **Multimodelity**\n",
        "13. **Runneble**  (interfaces)\n",
        "14. **Callbreaks**\n",
        "15. **Local Agent**\n",
        "\n",
        "\n",
        "\n"
      ]
    },
    {
      "cell_type": "code",
      "execution_count": 1,
      "metadata": {
        "id": "ha3sB-zicb-J"
      },
      "outputs": [],
      "source": [
        "import os"
      ]
    },
    {
      "cell_type": "code",
      "execution_count": null,
      "metadata": {
        "id": "5UwUExs3qSpf"
      },
      "outputs": [],
      "source": [
        "!pip install python-dotenv"
      ]
    },
    {
      "cell_type": "code",
      "execution_count": 3,
      "metadata": {
        "colab": {
          "base_uri": "https://localhost:8080/",
          "height": 91
        },
        "id": "U0WlqSi1qakb",
        "outputId": "67f932f6-850b-4e74-8dfb-1ce357a37fdc"
      },
      "outputs": [
        {
          "data": {
            "application/vnd.google.colaboratory.intrinsic+json": {
              "type": "string"
            },
            "text/plain": [
              "'GOOGLE_API_KEY=os.getenv(\"GOOGLE_API_KEY\")\\nLANGCHAIN_TRACING_V2=os.getenv(\"LANGCHAIN_TRACING_V2\")\\nLANGCHAIN_API_KEY=os.getenv(\"LANGCHAIN_API_KEY\")\\n\\nos.environ[\"LANGCHAIN_TRACING_V2\"]=LANGCHAIN_TRACING_V2\\nos.environ[\"LANGCHAIN_API_KEY\"]=LANGCHAIN_API_KEY\\nos.environ[\"GOOGLE_API_KEY\"]=GOOGLE_API_KEY'"
            ]
          },
          "execution_count": 3,
          "metadata": {},
          "output_type": "execute_result"
        }
      ],
      "source": [
        "'''GOOGLE_API_KEY=os.getenv(\"GOOGLE_API_KEY\")\n",
        "LANGCHAIN_TRACING_V2=os.getenv(\"LANGCHAIN_TRACING_V2\")\n",
        "LANGCHAIN_API_KEY=os.getenv(\"LANGCHAIN_API_KEY\")\n",
        "\n",
        "os.environ[\"LANGCHAIN_TRACING_V2\"]=LANGCHAIN_TRACING_V2\n",
        "os.environ[\"LANGCHAIN_API_KEY\"]=LANGCHAIN_API_KEY\n",
        "os.environ[\"GOOGLE_API_KEY\"]=GOOGLE_API_KEY'''"
      ]
    },
    {
      "cell_type": "markdown",
      "metadata": {
        "id": "B0qCPmYfsRp3"
      },
      "source": [
        "### **Laod the model and test it with the simple message**  "
      ]
    },
    {
      "cell_type": "code",
      "execution_count": null,
      "metadata": {
        "id": "S2t5_mcxsuUX"
      },
      "outputs": [],
      "source": [
        "!pip install langchain-core"
      ]
    },
    {
      "cell_type": "code",
      "execution_count": 5,
      "metadata": {
        "id": "a8PIS-2WsPR_"
      },
      "outputs": [],
      "source": [
        "from langchain_core.messages import HumanMessage , SystemMessage\n"
      ]
    },
    {
      "cell_type": "code",
      "execution_count": null,
      "metadata": {
        "id": "B13tWplItc6e"
      },
      "outputs": [],
      "source": [
        "!pip install langchain_google_genai"
      ]
    },
    {
      "cell_type": "code",
      "execution_count": 7,
      "metadata": {
        "id": "RpPFPfJnssm2"
      },
      "outputs": [],
      "source": [
        "from langchain_google_genai import ChatGoogleGenerativeAI"
      ]
    },
    {
      "cell_type": "code",
      "execution_count": 8,
      "metadata": {
        "id": "fM7QUTyEvmKB"
      },
      "outputs": [],
      "source": [
        "import os\n",
        "# Assign the API key directly to the GOOGLE_API_KEY variable.\n",
        "GOOGLE_API_KEY = \"----\"\n",
        "# Set the environment variable using the key.\n",
        "os.environ[\"GOOGLE_API_KEY\"] = GOOGLE_API_KEY"
      ]
    },
    {
      "cell_type": "code",
      "execution_count": 9,
      "metadata": {
        "id": "YhE35ODPtUOJ"
      },
      "outputs": [],
      "source": [
        "model =  ChatGoogleGenerativeAI(model = \"gemini-pro\" , temperature = 0.1 , convert_system_message_to_human=True)"
      ]
    },
    {
      "cell_type": "code",
      "execution_count": 10,
      "metadata": {
        "colab": {
          "base_uri": "https://localhost:8080/"
        },
        "id": "UlNUS7uau_Km",
        "outputId": "2c6af6ee-e9e8-422c-d846-dc1059b0afcd"
      },
      "outputs": [
        {
          "data": {
            "text/plain": [
              "ChatGoogleGenerativeAI(model='models/gemini-pro', temperature=0.1, client=<google.ai.generativelanguage_v1beta.services.generative_service.client.GenerativeServiceClient object at 0x7bfe620441c0>, async_client=<google.ai.generativelanguage_v1beta.services.generative_service.async_client.GenerativeServiceAsyncClient object at 0x7bfe62047580>, default_metadata=(), convert_system_message_to_human=True)"
            ]
          },
          "execution_count": 10,
          "metadata": {},
          "output_type": "execute_result"
        }
      ],
      "source": [
        "model"
      ]
    },
    {
      "cell_type": "code",
      "execution_count": 11,
      "metadata": {
        "id": "XyrjgeTOwfAY"
      },
      "outputs": [],
      "source": [
        "message = [SystemMessage(content=\"You are a nice AI bot.\"), HumanMessage(content =\"Hi , how are you buddy \")]\n"
      ]
    },
    {
      "cell_type": "code",
      "execution_count": 12,
      "metadata": {
        "colab": {
          "base_uri": "https://localhost:8080/"
        },
        "id": "qCBRQBLFxGjg",
        "outputId": "ec64b269-28ed-4d3e-b7aa-d94590b1e930"
      },
      "outputs": [
        {
          "name": "stderr",
          "output_type": "stream",
          "text": [
            "/usr/local/lib/python3.10/dist-packages/langchain_google_genai/chat_models.py:381: UserWarning: Convert_system_message_to_human will be deprecated!\n",
            "  warnings.warn(\"Convert_system_message_to_human will be deprecated!\")\n"
          ]
        },
        {
          "data": {
            "text/plain": [
              "AIMessage(content='Hello there! I am doing well, thank you for asking. How are you doing today?', response_metadata={'prompt_feedback': {'block_reason': 0, 'safety_ratings': []}, 'finish_reason': 'STOP', 'safety_ratings': [{'category': 'HARM_CATEGORY_SEXUALLY_EXPLICIT', 'probability': 'NEGLIGIBLE', 'blocked': False}, {'category': 'HARM_CATEGORY_HATE_SPEECH', 'probability': 'NEGLIGIBLE', 'blocked': False}, {'category': 'HARM_CATEGORY_HARASSMENT', 'probability': 'NEGLIGIBLE', 'blocked': False}, {'category': 'HARM_CATEGORY_DANGEROUS_CONTENT', 'probability': 'NEGLIGIBLE', 'blocked': False}]}, id='run-80123c8c-1556-435e-bf05-cfc70d09eba1-0', usage_metadata={'input_tokens': 15, 'output_tokens': 19, 'total_tokens': 34})"
            ]
          },
          "execution_count": 12,
          "metadata": {},
          "output_type": "execute_result"
        }
      ],
      "source": [
        "# message = [HumanMessage(content =\"Hi , how are you buddy \") , ]\n",
        "model.invoke(message)"
      ]
    },
    {
      "cell_type": "markdown",
      "metadata": {
        "id": "JSmaGq0Uz4EW"
      },
      "source": [
        "## **Use Output Parser**  "
      ]
    },
    {
      "cell_type": "code",
      "execution_count": 13,
      "metadata": {
        "id": "76oRbb2ax6FP"
      },
      "outputs": [],
      "source": [
        "from langchain_core.output_parsers import StrOutputParser"
      ]
    },
    {
      "cell_type": "code",
      "execution_count": 14,
      "metadata": {
        "id": "kxISehWl1Yi1"
      },
      "outputs": [],
      "source": [
        "response =  model.invoke(message)"
      ]
    },
    {
      "cell_type": "code",
      "execution_count": 15,
      "metadata": {
        "colab": {
          "base_uri": "https://localhost:8080/"
        },
        "id": "sylaYdNx1sQp",
        "outputId": "454ba927-b68b-4bb3-b21e-979af4a9d4ad"
      },
      "outputs": [
        {
          "data": {
            "text/plain": [
              "AIMessage(content='I am well, thank you for asking. I am a nice AI bot, and I am here to help you with whatever you need. How can I assist you today?', response_metadata={'prompt_feedback': {'block_reason': 0, 'safety_ratings': []}, 'finish_reason': 'STOP', 'safety_ratings': [{'category': 'HARM_CATEGORY_SEXUALLY_EXPLICIT', 'probability': 'NEGLIGIBLE', 'blocked': False}, {'category': 'HARM_CATEGORY_HATE_SPEECH', 'probability': 'NEGLIGIBLE', 'blocked': False}, {'category': 'HARM_CATEGORY_HARASSMENT', 'probability': 'NEGLIGIBLE', 'blocked': False}, {'category': 'HARM_CATEGORY_DANGEROUS_CONTENT', 'probability': 'NEGLIGIBLE', 'blocked': False}]}, id='run-1ecbdb65-2974-49c7-b87f-8c4be5d060fd-0', usage_metadata={'input_tokens': 15, 'output_tokens': 35, 'total_tokens': 50})"
            ]
          },
          "execution_count": 15,
          "metadata": {},
          "output_type": "execute_result"
        }
      ],
      "source": [
        "response"
      ]
    },
    {
      "cell_type": "code",
      "execution_count": 16,
      "metadata": {
        "id": "HVPTILKB2Bk4"
      },
      "outputs": [],
      "source": [
        "parser = StrOutputParser()"
      ]
    },
    {
      "cell_type": "code",
      "execution_count": 17,
      "metadata": {
        "colab": {
          "base_uri": "https://localhost:8080/"
        },
        "id": "9FbNFf7m1f91",
        "outputId": "d84674a0-866a-4620-a7b7-78e239f32286"
      },
      "outputs": [
        {
          "data": {
            "text/plain": [
              "AIMessage(content='I am well, thank you for asking. I am a nice AI bot, and I am here to help you with whatever you need. How can I assist you today?', response_metadata={'prompt_feedback': {'block_reason': 0, 'safety_ratings': []}, 'finish_reason': 'STOP', 'safety_ratings': [{'category': 'HARM_CATEGORY_SEXUALLY_EXPLICIT', 'probability': 'NEGLIGIBLE', 'blocked': False}, {'category': 'HARM_CATEGORY_HATE_SPEECH', 'probability': 'NEGLIGIBLE', 'blocked': False}, {'category': 'HARM_CATEGORY_HARASSMENT', 'probability': 'NEGLIGIBLE', 'blocked': False}, {'category': 'HARM_CATEGORY_DANGEROUS_CONTENT', 'probability': 'NEGLIGIBLE', 'blocked': False}]}, id='run-1ecbdb65-2974-49c7-b87f-8c4be5d060fd-0', usage_metadata={'input_tokens': 15, 'output_tokens': 35, 'total_tokens': 50})"
            ]
          },
          "execution_count": 17,
          "metadata": {},
          "output_type": "execute_result"
        }
      ],
      "source": [
        "parser.parse(response)"
      ]
    },
    {
      "cell_type": "code",
      "execution_count": 18,
      "metadata": {
        "id": "LYf65qhY1mgE"
      },
      "outputs": [],
      "source": [
        "message = [SystemMessage(content=\"You are a nice  bot. you answer everything in brief\"), HumanMessage(content =\"give me structure of a football\")]\n"
      ]
    },
    {
      "cell_type": "code",
      "execution_count": 19,
      "metadata": {
        "id": "x7ADqWG93Ti0"
      },
      "outputs": [],
      "source": [
        "response2 =  model.invoke(message)"
      ]
    },
    {
      "cell_type": "code",
      "execution_count": 20,
      "metadata": {
        "colab": {
          "base_uri": "https://localhost:8080/"
        },
        "id": "8d0_H-vo3XQa",
        "outputId": "b023c221-09fd-45d1-9050-546169554d33"
      },
      "outputs": [
        {
          "data": {
            "text/plain": [
              "AIMessage(content=\"**Structure of a Football**\\n\\n* **Outer Shell:**\\n    * Made of leather or synthetic material\\n    * Stitched together with 32 panels in a hexagonal and pentagonal pattern\\n* **Liner:**\\n    * Thin layer of rubber or latex\\n    * Provides shape and bounce\\n* **Bladder:**\\n    * Inflatable rubber or latex chamber\\n    * Contains air and determines the ball's pressure and weight\\n* **Valve:**\\n    * Small opening in the bladder\\n    * Allows for inflation and deflation\\n* **Weight:**\\n    * 410-450 grams (14-16 ounces)\\n* **Circumference:**\\n    * 68-70 centimeters (27-28 inches)\\n* **Pressure:**\\n    * 0.6-1.1 atmospheres (8.7-16.1 pounds per square inch)\", response_metadata={'prompt_feedback': {'block_reason': 0, 'safety_ratings': []}, 'finish_reason': 'STOP', 'safety_ratings': [{'category': 'HARM_CATEGORY_SEXUALLY_EXPLICIT', 'probability': 'NEGLIGIBLE', 'blocked': False}, {'category': 'HARM_CATEGORY_HATE_SPEECH', 'probability': 'NEGLIGIBLE', 'blocked': False}, {'category': 'HARM_CATEGORY_HARASSMENT', 'probability': 'NEGLIGIBLE', 'blocked': False}, {'category': 'HARM_CATEGORY_DANGEROUS_CONTENT', 'probability': 'NEGLIGIBLE', 'blocked': False}]}, id='run-e8aa889b-a697-4ff6-a6ee-8f53a509ac0b-0', usage_metadata={'input_tokens': 19, 'output_tokens': 191, 'total_tokens': 210})"
            ]
          },
          "execution_count": 20,
          "metadata": {},
          "output_type": "execute_result"
        }
      ],
      "source": [
        "parser.parse(response2)"
      ]
    },
    {
      "cell_type": "markdown",
      "metadata": {
        "id": "2geIhY9L4X3Y"
      },
      "source": [
        "# **Chaining With LCEL :**"
      ]
    },
    {
      "cell_type": "code",
      "execution_count": 21,
      "metadata": {
        "id": "LKYoFYV-3dBv"
      },
      "outputs": [],
      "source": [
        "\n",
        "\n",
        "# added two component\n",
        "chain = model | parser  # chaining means  adding components\n"
      ]
    },
    {
      "cell_type": "code",
      "execution_count": 22,
      "metadata": {
        "colab": {
          "base_uri": "https://localhost:8080/",
          "height": 145
        },
        "id": "q06MdNLn5DBC",
        "outputId": "c457bb93-5203-48db-c22e-97bd0415310d"
      },
      "outputs": [
        {
          "data": {
            "application/vnd.google.colaboratory.intrinsic+json": {
              "type": "string"
            },
            "text/plain": [
              "'**Structure of a Football**\\n\\n* **Outer Shell:**\\n    * Made of leather or synthetic material\\n    * Stitched together in panels (usually 32)\\n* **Bladder:**\\n    * Inflated with air\\n    * Made of rubber or latex\\n* **Lining:**\\n    * Thin layer of fabric or rubber\\n    * Helps maintain shape and prevent air leakage\\n* **Valve:**\\n    * Allows air to be pumped in or out\\n    * Located on one of the panels\\n* **Weight:**\\n    * Typically between 410-450 grams (14-16 ounces)\\n* **Circumference:**\\n    * Between 68-70 centimeters (27-28 inches)\\n* **Pressure:**\\n    * Regulated by FIFA to be between 0.6-1.1 atmospheres (8.7-16.1 psi)'"
            ]
          },
          "execution_count": 22,
          "metadata": {},
          "output_type": "execute_result"
        }
      ],
      "source": [
        "chain.invoke(message)"
      ]
    },
    {
      "cell_type": "markdown",
      "metadata": {
        "id": "RwWmmoGu6aoK"
      },
      "source": [
        "# **Lets start with Prompting**"
      ]
    },
    {
      "cell_type": "code",
      "execution_count": 23,
      "metadata": {
        "id": "jAlpjII95KJi"
      },
      "outputs": [],
      "source": [
        "from langchain_core.prompts import ChatPromptTemplate\n",
        "from langchain_core.prompts import PromptTemplate"
      ]
    },
    {
      "cell_type": "code",
      "execution_count": 24,
      "metadata": {
        "id": "DJsw7Wzt60PT"
      },
      "outputs": [],
      "source": [
        "system =\"translate the text into {language}\"\n",
        "user = \"i am hungry\""
      ]
    },
    {
      "cell_type": "code",
      "execution_count": 25,
      "metadata": {
        "id": "PPP4F1A77H2z"
      },
      "outputs": [],
      "source": [
        "chat_prompt = ChatPromptTemplate.from_messages([\n",
        "    (\"system\", system),\n",
        "    (\"user\", user)\n",
        "])"
      ]
    },
    {
      "cell_type": "code",
      "execution_count": 26,
      "metadata": {
        "id": "67XxpYPv7w7H"
      },
      "outputs": [],
      "source": [
        "prompt = chat_prompt.invoke({\"language\":\"french\"})"
      ]
    },
    {
      "cell_type": "code",
      "execution_count": 27,
      "metadata": {
        "colab": {
          "base_uri": "https://localhost:8080/"
        },
        "id": "CedHbZv09FEr",
        "outputId": "b7ea01f0-0d5b-4424-cf4f-6a7ad6e3b57f"
      },
      "outputs": [
        {
          "data": {
            "text/plain": [
              "AIMessage(content=\"J'ai faim\", response_metadata={'prompt_feedback': {'block_reason': 0, 'safety_ratings': []}, 'finish_reason': 'STOP', 'safety_ratings': [{'category': 'HARM_CATEGORY_SEXUALLY_EXPLICIT', 'probability': 'NEGLIGIBLE', 'blocked': False}, {'category': 'HARM_CATEGORY_HATE_SPEECH', 'probability': 'NEGLIGIBLE', 'blocked': False}, {'category': 'HARM_CATEGORY_HARASSMENT', 'probability': 'NEGLIGIBLE', 'blocked': False}, {'category': 'HARM_CATEGORY_DANGEROUS_CONTENT', 'probability': 'NEGLIGIBLE', 'blocked': False}]}, id='run-3f135292-ca57-45a8-918b-5c74f39c85cf-0', usage_metadata={'input_tokens': 9, 'output_tokens': 4, 'total_tokens': 13})"
            ]
          },
          "execution_count": 27,
          "metadata": {},
          "output_type": "execute_result"
        }
      ],
      "source": [
        "model.invoke(prompt)"
      ]
    },
    {
      "cell_type": "markdown",
      "metadata": {
        "id": "En9K0dO5AX2G"
      },
      "source": [
        "# **Chaining**"
      ]
    },
    {
      "cell_type": "code",
      "execution_count": 28,
      "metadata": {
        "id": "nzxKk6qp_zkN"
      },
      "outputs": [],
      "source": [
        "chain =  chat_prompt | model | parser"
      ]
    },
    {
      "cell_type": "code",
      "execution_count": 29,
      "metadata": {
        "colab": {
          "base_uri": "https://localhost:8080/",
          "height": 36
        },
        "id": "BvOuF4BdBDny",
        "outputId": "74c00be4-485c-44c1-bdca-d5ab5f6e9f34"
      },
      "outputs": [
        {
          "data": {
            "application/vnd.google.colaboratory.intrinsic+json": {
              "type": "string"
            },
            "text/plain": [
              "'আমি ক্ষুধার্ত'"
            ]
          },
          "execution_count": 29,
          "metadata": {},
          "output_type": "execute_result"
        }
      ],
      "source": [
        "chain.invoke({\"language\":\"bengali\"})"
      ]
    },
    {
      "cell_type": "code",
      "execution_count": 30,
      "metadata": {
        "id": "_lXJhY64BFuV"
      },
      "outputs": [],
      "source": [
        "chat_prompt = ChatPromptTemplate.from_messages([\n",
        "    (\"system\", system),\n",
        "    (\"user\", \"{text}\")\n",
        "])"
      ]
    },
    {
      "cell_type": "code",
      "execution_count": 31,
      "metadata": {
        "id": "7PbigKubBiQx"
      },
      "outputs": [],
      "source": [
        "chain2 = chat_prompt | model | parser"
      ]
    },
    {
      "cell_type": "code",
      "execution_count": 32,
      "metadata": {
        "colab": {
          "base_uri": "https://localhost:8080/",
          "height": 36
        },
        "id": "C3du9j05ByHf",
        "outputId": "2de0d6c9-0dc8-43a9-963b-6977f0d3ef47"
      },
      "outputs": [
        {
          "data": {
            "application/vnd.google.colaboratory.intrinsic+json": {
              "type": "string"
            },
            "text/plain": [
              "'আমি ক্ষুধার্ত'"
            ]
          },
          "execution_count": 32,
          "metadata": {},
          "output_type": "execute_result"
        }
      ],
      "source": [
        "chain2.invoke({\"language\": \"bengali\" , \"text\":\"i am hungry\"})"
      ]
    },
    {
      "cell_type": "code",
      "execution_count": 33,
      "metadata": {
        "colab": {
          "base_uri": "https://localhost:8080/",
          "height": 36
        },
        "id": "zEChG-HFB2DI",
        "outputId": "d6132f50-999d-4820-9bf9-d545d9e7878a"
      },
      "outputs": [
        {
          "data": {
            "application/vnd.google.colaboratory.intrinsic+json": {
              "type": "string"
            },
            "text/plain": [
              "'मैं तुमसे प्यार करता हूँ'"
            ]
          },
          "execution_count": 33,
          "metadata": {},
          "output_type": "execute_result"
        }
      ],
      "source": [
        "chain2.invoke({\"language\": \"hindi\" , \"text\":\"i love you\"})"
      ]
    },
    {
      "cell_type": "code",
      "execution_count": 34,
      "metadata": {
        "colab": {
          "base_uri": "https://localhost:8080/",
          "height": 36
        },
        "id": "RkbosubjCE2J",
        "outputId": "e267cadd-1046-49b6-ba26-a38055c2ece2"
      },
      "outputs": [
        {
          "data": {
            "application/vnd.google.colaboratory.intrinsic+json": {
              "type": "string"
            },
            "text/plain": [
              "'তোমাকে ভালোবাসি'"
            ]
          },
          "execution_count": 34,
          "metadata": {},
          "output_type": "execute_result"
        }
      ],
      "source": [
        "chain2.invoke({\"language\": \"bangali\" , \"text\":\"i love you\"})"
      ]
    },
    {
      "cell_type": "code",
      "execution_count": 37,
      "metadata": {
        "id": "2D1m-ItICLHW"
      },
      "outputs": [],
      "source": [
        "LANGCHAIN_TRACING_V2=True\n",
        "LANGCHAIN_ENDPOINT=\"https://api.smith.langchain.com\"\n",
        "LANGCHAIN_API_KEY=\"--\"\n",
        "LANGCHAIN_PROJECT=\"fahim\""
      ]
    },
    {
      "cell_type": "markdown",
      "metadata": {
        "id": "KdR_Yxq4neNC"
      },
      "source": [
        "### **langServe**\n",
        "- it creates the API of langchain project\n",
        "- LangServe is a tool for deploying and managing large language models (LLMs) as APIs. It simplifies model serving, scales to handle traffic, and offers features like custom APIs, monitoring, and security. It's designed to make it easier to operationalize LLMs in real-world applications.\n",
        "\n",
        "\n",
        "\n",
        "\n",
        "\n",
        "\n",
        "\n"
      ]
    },
    {
      "cell_type": "code",
      "execution_count": null,
      "metadata": {
        "id": "RzrDVNCbp5FM"
      },
      "outputs": [],
      "source": [
        "!pip install fastapi"
      ]
    },
    {
      "cell_type": "code",
      "execution_count": null,
      "metadata": {
        "id": "2B_USNLXqAd4"
      },
      "outputs": [],
      "source": [
        "!pip install langserve"
      ]
    },
    {
      "cell_type": "code",
      "execution_count": 42,
      "metadata": {
        "id": "b0dD0wwnlIth"
      },
      "outputs": [],
      "source": [
        "from langchain_google_genai import ChatGoogleGenerativeAI\n",
        "from fastapi import FastAPI\n",
        "from langserve import add_routes\n",
        "from langchain_core.prompts import ChatPromptTemplate\n",
        "from langchain_core.output_parsers import StrOutputParser\n",
        "\n"
      ]
    },
    {
      "cell_type": "code",
      "execution_count": 43,
      "metadata": {
        "id": "GhtGgHEap3vd"
      },
      "outputs": [],
      "source": [
        "system = \"translate the following into {language}\"\n",
        "\n",
        "prompt = ChatPromptTemplate.from_messages([\n",
        "    (\"system\", system),\n",
        "    (\"user\", \"{text}\")\n",
        "])"
      ]
    },
    {
      "cell_type": "code",
      "execution_count": 45,
      "metadata": {
        "id": "BFFG50_rrkQX"
      },
      "outputs": [],
      "source": [
        "# create Model\n",
        "model = ChatGoogleGenerativeAI(model = \"gemini-pro\" , temperature = 0.1 , convert_system_message_to_human=True)\n"
      ]
    },
    {
      "cell_type": "code",
      "execution_count": 48,
      "metadata": {
        "id": "fV01NPoksWLb"
      },
      "outputs": [],
      "source": [
        "# create parser\n",
        "parser   = StrOutputParser()"
      ]
    },
    {
      "cell_type": "code",
      "execution_count": 61,
      "metadata": {
        "id": "wh-4gIKesbyM"
      },
      "outputs": [],
      "source": [
        "chain =  prompt | model | parser"
      ]
    },
    {
      "cell_type": "code",
      "execution_count": 52,
      "metadata": {
        "colab": {
          "base_uri": "https://localhost:8080/",
          "height": 36
        },
        "id": "V-PgpRS6si7r",
        "outputId": "56ec273b-7ae5-4866-e802-5e808534db35"
      },
      "outputs": [
        {
          "data": {
            "application/vnd.google.colaboratory.intrinsic+json": {
              "type": "string"
            },
            "text/plain": [
              "'তোমাকে ভালোবাসি'"
            ]
          },
          "execution_count": 52,
          "metadata": {},
          "output_type": "execute_result"
        }
      ],
      "source": [
        "chain.invoke({\"language\":\"bengali\" , \"text\":\"i love you\"})"
      ]
    },
    {
      "cell_type": "code",
      "execution_count": 55,
      "metadata": {
        "colab": {
          "base_uri": "https://localhost:8080/",
          "height": 36
        },
        "id": "1nsVVrJLsna6",
        "outputId": "ec4c8062-e604-40ef-a764-9b76b6e1d8f1"
      },
      "outputs": [
        {
          "data": {
            "application/vnd.google.colaboratory.intrinsic+json": {
              "type": "string"
            },
            "text/plain": [
              "'নমস্কার, কেমন আছেন?, কি করছেন?'"
            ]
          },
          "execution_count": 55,
          "metadata": {},
          "output_type": "execute_result"
        }
      ],
      "source": [
        "chain.invoke({\"language\": \"bangali\" , \"text\" : \"greetings , how are you ? , what are you doing\"})"
      ]
    },
    {
      "cell_type": "code",
      "execution_count": 62,
      "metadata": {
        "id": "U-nD3xvEtQeW"
      },
      "outputs": [],
      "source": [
        "app =  FastAPI(\n",
        "\n",
        "        title = \"My API\" ,\n",
        "        description = \"My API\" ,\n",
        "        version = \"1.0.0\"\n",
        ")\n"
      ]
    },
    {
      "cell_type": "code",
      "execution_count": null,
      "metadata": {
        "id": "NMNxvZtVuTH_"
      },
      "outputs": [],
      "source": [
        "!pip install sse-starlette"
      ]
    },
    {
      "cell_type": "code",
      "execution_count": 65,
      "metadata": {
        "id": "Xs_YRuCVttGA"
      },
      "outputs": [],
      "source": [
        "add_routes(\n",
        "    app,\n",
        "    chain,\n",
        "    path = \"/chain\"\n",
        ")"
      ]
    },
    {
      "cell_type": "code",
      "execution_count": 67,
      "metadata": {
        "id": "SLMazLtXt5wM"
      },
      "outputs": [],
      "source": [
        "import uvicorn"
      ]
    },
    {
      "cell_type": "code",
      "execution_count": null,
      "metadata": {
        "id": "1_7rvlOwu6Sj"
      },
      "outputs": [],
      "source": [
        "import uvicorn\n",
        "async def root():\n",
        "    return {\"message\": \"Hello World\"}\n",
        "\n",
        "if __name__ == \"__main__\":\n",
        "    uvicorn.run(app, host=\"localhost\", port=8000)\n",
        "# it make a link"
      ]
    },
    {
      "cell_type": "markdown",
      "metadata": {
        "id": "VvWxJKGQyTS9"
      },
      "source": [
        "## **Agents in langraph**\n",
        "\n",
        "Agents =  Smart Ai assistants\n"
      ]
    },
    {
      "cell_type": "code",
      "execution_count": 130,
      "metadata": {
        "colab": {
          "base_uri": "https://localhost:8080/"
        },
        "id": "kyyIwG5ovha0",
        "outputId": "2f468be1-f26a-407f-9cdd-7c2db5cbe353"
      },
      "outputs": [
        {
          "name": "stdout",
          "output_type": "stream",
          "text": [
            "Requirement already satisfied: tavily-python in /usr/local/lib/python3.10/dist-packages (0.4.0)\n",
            "Requirement already satisfied: requests in /usr/local/lib/python3.10/dist-packages (from tavily-python) (2.32.3)\n",
            "Requirement already satisfied: tiktoken>=0.5.1 in /usr/local/lib/python3.10/dist-packages (from tavily-python) (0.7.0)\n",
            "Requirement already satisfied: httpx in /usr/local/lib/python3.10/dist-packages (from tavily-python) (0.27.2)\n",
            "Requirement already satisfied: regex>=2022.1.18 in /usr/local/lib/python3.10/dist-packages (from tiktoken>=0.5.1->tavily-python) (2024.5.15)\n",
            "Requirement already satisfied: charset-normalizer<4,>=2 in /usr/local/lib/python3.10/dist-packages (from requests->tavily-python) (3.3.2)\n",
            "Requirement already satisfied: idna<4,>=2.5 in /usr/local/lib/python3.10/dist-packages (from requests->tavily-python) (3.8)\n",
            "Requirement already satisfied: urllib3<3,>=1.21.1 in /usr/local/lib/python3.10/dist-packages (from requests->tavily-python) (2.0.7)\n",
            "Requirement already satisfied: certifi>=2017.4.17 in /usr/local/lib/python3.10/dist-packages (from requests->tavily-python) (2024.8.30)\n",
            "Requirement already satisfied: anyio in /usr/local/lib/python3.10/dist-packages (from httpx->tavily-python) (3.7.1)\n",
            "Requirement already satisfied: httpcore==1.* in /usr/local/lib/python3.10/dist-packages (from httpx->tavily-python) (1.0.5)\n",
            "Requirement already satisfied: sniffio in /usr/local/lib/python3.10/dist-packages (from httpx->tavily-python) (1.3.1)\n",
            "Requirement already satisfied: h11<0.15,>=0.13 in /usr/local/lib/python3.10/dist-packages (from httpcore==1.*->httpx->tavily-python) (0.14.0)\n",
            "Requirement already satisfied: exceptiongroup in /usr/local/lib/python3.10/dist-packages (from anyio->httpx->tavily-python) (1.2.2)\n"
          ]
        }
      ],
      "source": [
        "# creating tavilly ai ( research  assistant )\n",
        "!pip install tavily-python"
      ]
    },
    {
      "cell_type": "code",
      "execution_count": 131,
      "metadata": {
        "colab": {
          "base_uri": "https://localhost:8080/"
        },
        "id": "Suyn8SU12TuB",
        "outputId": "e4f46a35-fbe1-47e7-f14f-4ee9947f4160"
      },
      "outputs": [
        {
          "name": "stdout",
          "output_type": "stream",
          "text": [
            "{'query': 'Who is Leo Messi?', 'follow_up_questions': None, 'answer': None, 'images': [], 'results': [{'title': 'Leo Messi - Official FC Barcelona Website', 'url': 'https://www.fcbarcelona.com/en/card/2214377/leo-messi', 'content': \"Notifications Center\\nNotifications Center\\nFirst Team\\nClub\\nTickets & Museum\\nCulers\\nDownload the official FC Barcelona App\\nLeo Messi\\nLeo Messi's footballing career started in 1995 at Newell's Old Boys, where he played until the year 2000. Messi’s individual achievements are also unprecedented: six Ballon d’Or awards, six times Champions League top scorer, six times Golden Shoe winner, eight times ‘Pichichi’ (top scorer) in La Liga, Ballon d’Or winner at the 2014 World Cup, FIFA World Player of the Year in 2009 and FIFA The Best winner in 2019.\\n He has also played in six Copa Américas (2007, 2011, 2015, 2016, 2019, 2021), losing in the final in both 2015 and 2016 to Chile on penalties before finally claiming a major honour for his country with the win over Brazil in the 2021 final. In the summer of 2021 the love affair between FC Barcelona and Leo Messi came to an end and the Barça number 10 brought an end to his career which has been him become a life long legend for FC Barcelona.\\n Getting better every season, Messi and Barça won 35 trophies during the Argentine's time at the Club, including the six won in 2009 and the treble in 2015.\\n\", 'score': 0.98492736, 'raw_content': None}, {'title': 'Career of Lionel Messi - Wikipedia', 'url': 'https://en.wikipedia.org/wiki/Career_of_Lionel_Messi', 'content': \"Lionel Messi 's club career began with Barcelona, where he rose through the youth ranks, making his first-team debut in 2004. Over the next years, Messi became the club's all-time leading scorer, amassing numerous domestic and international accolades. During his tenure, Barcelona secured ten La Liga titles, seven Copa del Rey trophies, and four ...\", 'score': 0.95388025, 'raw_content': None}, {'title': 'Lionel Messi | Biography, Competitions, Wins and Medals', 'url': 'https://olympics.com/en/athletes/lionel-messi', 'content': '“The Olympic gold in 2008 is the win that I value the most because it is a tournament that you may play only once in your life and involves many athletes from different disciplines” - Lionel Messi, Spanish Esquire\\nFeatured\\nLatest News\\nOlympic Results\\nAthlete Olympic Results Content\\nYou may like Lionel MESSI\\nBiography\\nBorn in Rosario, Argentina in 1987 Lionel Messi is widely held to be one of the greatest football players of his generation — and with good reason.\\n Graduating quickly through the club’s ranks thanks to his ever-growing skill set Messi made his first senior appearance for the club at the age of 17.\\n When he eventually left the team in 2021 for French club Paris Saint-Germain the Argentine completed his time in La Liga as its top goal-scorer, with an eye-watering 474 successful shots to his name.\\n He also came close to winning the FIFA World Cup in 2014 but Argentina fell to Germany 1-0 in the final.\\n', 'score': 0.9424008, 'raw_content': None}, {'title': \"Lionel Messi | Biography, Barcelona, PSG, Ballon d'Or, Inter Miami ...\", 'url': 'https://www.britannica.com/biography/Lionel-Messi', 'content': 'In early 2009 Messi capped off a spectacular 2008–09 season by helping FC Barcelona capture the club’s first “treble” (winning three major European club titles in one season): the team won the La Liga championship, the Copa del Rey (Spain’s major domestic cup), and the Champions League title. Messi’s play continued to rapidly improve over the years, and by 2008 he was one of the most dominant players in the world, finishing second to Manchester United’s Cristiano Ronaldo in the voting for the 2008 Ballon d’Or. At the 2014 World Cup, Messi put on a dazzling display, scoring four goals and almost single-handedly propelling an offense-deficient Argentina team through the group stage and into the knockout rounds, where Argentina then advanced to the World Cup final for the first time in 24 years. After Argentina was defeated in the Copa final—the team’s third consecutive finals loss in a major tournament—Messi said that he was quitting the national team, but his short-lived “retirement” lasted less than two months before he announced his return to the Argentine team. Messi helped Barcelona capture another treble during the 2014–15 season, leading the team with 43 goals scored over the course of the campaign, which resulted in his fifth world player of the year honour.', 'score': 0.8749346, 'raw_content': None}, {'title': 'Lionel Messi: The life and times of the Barcelona, Paris Saint-Germain ...', 'url': 'https://www.nytimes.com/athletic/4783674/2023/08/18/lionel-messi-profile-soccer/', 'content': 'For Messi, it is major trophy number 44.. Despite turning 36 in June, he is as influential as ever. Here is the complete story of Lionel Andres Messi, widely regarded as one of the greatest ...', 'score': 0.87321484, 'raw_content': None}], 'response_time': 1.84}\n"
          ]
        }
      ],
      "source": [
        "# Tavilly ai is a research assistant\n",
        "from tavily import TavilyClient\n",
        "\n",
        "# Step 1. Instantiating your TavilyClient\n",
        "tavily_client = TavilyClient(api_key=\"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\")\n",
        "\n",
        "# Step 2. Executing a simple search query\n",
        "response = tavily_client.search(\"Who is Leo Messi?\")\n",
        "\n",
        "# Step 3. That's it! You've done a Tavily Search!\n",
        "print(response)"
      ]
    },
    {
      "cell_type": "code",
      "execution_count": 132,
      "metadata": {
        "colab": {
          "base_uri": "https://localhost:8080/"
        },
        "id": "fP0ZbWYr34hS",
        "outputId": "ca2572dc-f6a6-4625-b212-d1d598d09397"
      },
      "outputs": [
        {
          "name": "stdout",
          "output_type": "stream",
          "text": [
            "Requirement already satisfied: langgraph in /usr/local/lib/python3.10/dist-packages (0.2.16)\n",
            "Requirement already satisfied: langchain-core<0.3,>=0.2.27 in /usr/local/lib/python3.10/dist-packages (from langgraph) (0.2.38)\n",
            "Requirement already satisfied: langgraph-checkpoint<2.0.0,>=1.0.2 in /usr/local/lib/python3.10/dist-packages (from langgraph) (1.0.8)\n",
            "Requirement already satisfied: PyYAML>=5.3 in /usr/local/lib/python3.10/dist-packages (from langchain-core<0.3,>=0.2.27->langgraph) (6.0.2)\n",
            "Requirement already satisfied: jsonpatch<2.0,>=1.33 in /usr/local/lib/python3.10/dist-packages (from langchain-core<0.3,>=0.2.27->langgraph) (1.33)\n",
            "Requirement already satisfied: langsmith<0.2.0,>=0.1.75 in /usr/local/lib/python3.10/dist-packages (from langchain-core<0.3,>=0.2.27->langgraph) (0.1.114)\n",
            "Requirement already satisfied: packaging<25,>=23.2 in /usr/local/lib/python3.10/dist-packages (from langchain-core<0.3,>=0.2.27->langgraph) (24.1)\n",
            "Requirement already satisfied: pydantic<3,>=1 in /usr/local/lib/python3.10/dist-packages (from langchain-core<0.3,>=0.2.27->langgraph) (2.8.2)\n",
            "Requirement already satisfied: tenacity!=8.4.0,<9.0.0,>=8.1.0 in /usr/local/lib/python3.10/dist-packages (from langchain-core<0.3,>=0.2.27->langgraph) (8.5.0)\n",
            "Requirement already satisfied: typing-extensions>=4.7 in /usr/local/lib/python3.10/dist-packages (from langchain-core<0.3,>=0.2.27->langgraph) (4.12.2)\n",
            "Requirement already satisfied: jsonpointer>=1.9 in /usr/local/lib/python3.10/dist-packages (from jsonpatch<2.0,>=1.33->langchain-core<0.3,>=0.2.27->langgraph) (3.0.0)\n",
            "Requirement already satisfied: httpx<1,>=0.23.0 in /usr/local/lib/python3.10/dist-packages (from langsmith<0.2.0,>=0.1.75->langchain-core<0.3,>=0.2.27->langgraph) (0.27.2)\n",
            "Requirement already satisfied: orjson<4.0.0,>=3.9.14 in /usr/local/lib/python3.10/dist-packages (from langsmith<0.2.0,>=0.1.75->langchain-core<0.3,>=0.2.27->langgraph) (3.10.7)\n",
            "Requirement already satisfied: requests<3,>=2 in /usr/local/lib/python3.10/dist-packages (from langsmith<0.2.0,>=0.1.75->langchain-core<0.3,>=0.2.27->langgraph) (2.32.3)\n",
            "Requirement already satisfied: annotated-types>=0.4.0 in /usr/local/lib/python3.10/dist-packages (from pydantic<3,>=1->langchain-core<0.3,>=0.2.27->langgraph) (0.7.0)\n",
            "Requirement already satisfied: pydantic-core==2.20.1 in /usr/local/lib/python3.10/dist-packages (from pydantic<3,>=1->langchain-core<0.3,>=0.2.27->langgraph) (2.20.1)\n",
            "Requirement already satisfied: anyio in /usr/local/lib/python3.10/dist-packages (from httpx<1,>=0.23.0->langsmith<0.2.0,>=0.1.75->langchain-core<0.3,>=0.2.27->langgraph) (3.7.1)\n",
            "Requirement already satisfied: certifi in /usr/local/lib/python3.10/dist-packages (from httpx<1,>=0.23.0->langsmith<0.2.0,>=0.1.75->langchain-core<0.3,>=0.2.27->langgraph) (2024.8.30)\n",
            "Requirement already satisfied: httpcore==1.* in /usr/local/lib/python3.10/dist-packages (from httpx<1,>=0.23.0->langsmith<0.2.0,>=0.1.75->langchain-core<0.3,>=0.2.27->langgraph) (1.0.5)\n",
            "Requirement already satisfied: idna in /usr/local/lib/python3.10/dist-packages (from httpx<1,>=0.23.0->langsmith<0.2.0,>=0.1.75->langchain-core<0.3,>=0.2.27->langgraph) (3.8)\n",
            "Requirement already satisfied: sniffio in /usr/local/lib/python3.10/dist-packages (from httpx<1,>=0.23.0->langsmith<0.2.0,>=0.1.75->langchain-core<0.3,>=0.2.27->langgraph) (1.3.1)\n",
            "Requirement already satisfied: h11<0.15,>=0.13 in /usr/local/lib/python3.10/dist-packages (from httpcore==1.*->httpx<1,>=0.23.0->langsmith<0.2.0,>=0.1.75->langchain-core<0.3,>=0.2.27->langgraph) (0.14.0)\n",
            "Requirement already satisfied: charset-normalizer<4,>=2 in /usr/local/lib/python3.10/dist-packages (from requests<3,>=2->langsmith<0.2.0,>=0.1.75->langchain-core<0.3,>=0.2.27->langgraph) (3.3.2)\n",
            "Requirement already satisfied: urllib3<3,>=1.21.1 in /usr/local/lib/python3.10/dist-packages (from requests<3,>=2->langsmith<0.2.0,>=0.1.75->langchain-core<0.3,>=0.2.27->langgraph) (2.0.7)\n",
            "Requirement already satisfied: exceptiongroup in /usr/local/lib/python3.10/dist-packages (from anyio->httpx<1,>=0.23.0->langsmith<0.2.0,>=0.1.75->langchain-core<0.3,>=0.2.27->langgraph) (1.2.2)\n"
          ]
        }
      ],
      "source": [
        "!pip install langgraph"
      ]
    },
    {
      "cell_type": "code",
      "execution_count": 133,
      "metadata": {
        "id": "3644eEwQ3aA4"
      },
      "outputs": [],
      "source": [
        "from langgraph.checkpoint.memory import MemorySaver\n",
        "from langgraph.prebuilt import create_react_agent"
      ]
    },
    {
      "cell_type": "code",
      "execution_count": 134,
      "metadata": {
        "colab": {
          "base_uri": "https://localhost:8080/"
        },
        "id": "iGXFv_Eo5PvK",
        "outputId": "3e73d1c7-99c9-45ef-c878-cce308cc54a3"
      },
      "outputs": [
        {
          "name": "stdout",
          "output_type": "stream",
          "text": [
            "Requirement already satisfied: langchain_community in /usr/local/lib/python3.10/dist-packages (0.2.16)\n",
            "Requirement already satisfied: PyYAML>=5.3 in /usr/local/lib/python3.10/dist-packages (from langchain_community) (6.0.2)\n",
            "Requirement already satisfied: SQLAlchemy<3,>=1.4 in /usr/local/lib/python3.10/dist-packages (from langchain_community) (2.0.32)\n",
            "Requirement already satisfied: aiohttp<4.0.0,>=3.8.3 in /usr/local/lib/python3.10/dist-packages (from langchain_community) (3.10.5)\n",
            "Requirement already satisfied: dataclasses-json<0.7,>=0.5.7 in /usr/local/lib/python3.10/dist-packages (from langchain_community) (0.6.7)\n",
            "Requirement already satisfied: langchain<0.3.0,>=0.2.16 in /usr/local/lib/python3.10/dist-packages (from langchain_community) (0.2.16)\n",
            "Requirement already satisfied: langchain-core<0.3.0,>=0.2.38 in /usr/local/lib/python3.10/dist-packages (from langchain_community) (0.2.38)\n",
            "Requirement already satisfied: langsmith<0.2.0,>=0.1.0 in /usr/local/lib/python3.10/dist-packages (from langchain_community) (0.1.114)\n",
            "Requirement already satisfied: numpy<2,>=1 in /usr/local/lib/python3.10/dist-packages (from langchain_community) (1.26.4)\n",
            "Requirement already satisfied: requests<3,>=2 in /usr/local/lib/python3.10/dist-packages (from langchain_community) (2.32.3)\n",
            "Requirement already satisfied: tenacity!=8.4.0,<9.0.0,>=8.1.0 in /usr/local/lib/python3.10/dist-packages (from langchain_community) (8.5.0)\n",
            "Requirement already satisfied: aiohappyeyeballs>=2.3.0 in /usr/local/lib/python3.10/dist-packages (from aiohttp<4.0.0,>=3.8.3->langchain_community) (2.4.0)\n",
            "Requirement already satisfied: aiosignal>=1.1.2 in /usr/local/lib/python3.10/dist-packages (from aiohttp<4.0.0,>=3.8.3->langchain_community) (1.3.1)\n",
            "Requirement already satisfied: attrs>=17.3.0 in /usr/local/lib/python3.10/dist-packages (from aiohttp<4.0.0,>=3.8.3->langchain_community) (24.2.0)\n",
            "Requirement already satisfied: frozenlist>=1.1.1 in /usr/local/lib/python3.10/dist-packages (from aiohttp<4.0.0,>=3.8.3->langchain_community) (1.4.1)\n",
            "Requirement already satisfied: multidict<7.0,>=4.5 in /usr/local/lib/python3.10/dist-packages (from aiohttp<4.0.0,>=3.8.3->langchain_community) (6.0.5)\n",
            "Requirement already satisfied: yarl<2.0,>=1.0 in /usr/local/lib/python3.10/dist-packages (from aiohttp<4.0.0,>=3.8.3->langchain_community) (1.9.4)\n",
            "Requirement already satisfied: async-timeout<5.0,>=4.0 in /usr/local/lib/python3.10/dist-packages (from aiohttp<4.0.0,>=3.8.3->langchain_community) (4.0.3)\n",
            "Requirement already satisfied: marshmallow<4.0.0,>=3.18.0 in /usr/local/lib/python3.10/dist-packages (from dataclasses-json<0.7,>=0.5.7->langchain_community) (3.22.0)\n",
            "Requirement already satisfied: typing-inspect<1,>=0.4.0 in /usr/local/lib/python3.10/dist-packages (from dataclasses-json<0.7,>=0.5.7->langchain_community) (0.9.0)\n",
            "Requirement already satisfied: langchain-text-splitters<0.3.0,>=0.2.0 in /usr/local/lib/python3.10/dist-packages (from langchain<0.3.0,>=0.2.16->langchain_community) (0.2.4)\n",
            "Requirement already satisfied: pydantic<3,>=1 in /usr/local/lib/python3.10/dist-packages (from langchain<0.3.0,>=0.2.16->langchain_community) (2.8.2)\n",
            "Requirement already satisfied: jsonpatch<2.0,>=1.33 in /usr/local/lib/python3.10/dist-packages (from langchain-core<0.3.0,>=0.2.38->langchain_community) (1.33)\n",
            "Requirement already satisfied: packaging<25,>=23.2 in /usr/local/lib/python3.10/dist-packages (from langchain-core<0.3.0,>=0.2.38->langchain_community) (24.1)\n",
            "Requirement already satisfied: typing-extensions>=4.7 in /usr/local/lib/python3.10/dist-packages (from langchain-core<0.3.0,>=0.2.38->langchain_community) (4.12.2)\n",
            "Requirement already satisfied: httpx<1,>=0.23.0 in /usr/local/lib/python3.10/dist-packages (from langsmith<0.2.0,>=0.1.0->langchain_community) (0.27.2)\n",
            "Requirement already satisfied: orjson<4.0.0,>=3.9.14 in /usr/local/lib/python3.10/dist-packages (from langsmith<0.2.0,>=0.1.0->langchain_community) (3.10.7)\n",
            "Requirement already satisfied: charset-normalizer<4,>=2 in /usr/local/lib/python3.10/dist-packages (from requests<3,>=2->langchain_community) (3.3.2)\n",
            "Requirement already satisfied: idna<4,>=2.5 in /usr/local/lib/python3.10/dist-packages (from requests<3,>=2->langchain_community) (3.8)\n",
            "Requirement already satisfied: urllib3<3,>=1.21.1 in /usr/local/lib/python3.10/dist-packages (from requests<3,>=2->langchain_community) (2.0.7)\n",
            "Requirement already satisfied: certifi>=2017.4.17 in /usr/local/lib/python3.10/dist-packages (from requests<3,>=2->langchain_community) (2024.8.30)\n",
            "Requirement already satisfied: greenlet!=0.4.17 in /usr/local/lib/python3.10/dist-packages (from SQLAlchemy<3,>=1.4->langchain_community) (3.0.3)\n",
            "Requirement already satisfied: anyio in /usr/local/lib/python3.10/dist-packages (from httpx<1,>=0.23.0->langsmith<0.2.0,>=0.1.0->langchain_community) (3.7.1)\n",
            "Requirement already satisfied: httpcore==1.* in /usr/local/lib/python3.10/dist-packages (from httpx<1,>=0.23.0->langsmith<0.2.0,>=0.1.0->langchain_community) (1.0.5)\n",
            "Requirement already satisfied: sniffio in /usr/local/lib/python3.10/dist-packages (from httpx<1,>=0.23.0->langsmith<0.2.0,>=0.1.0->langchain_community) (1.3.1)\n",
            "Requirement already satisfied: h11<0.15,>=0.13 in /usr/local/lib/python3.10/dist-packages (from httpcore==1.*->httpx<1,>=0.23.0->langsmith<0.2.0,>=0.1.0->langchain_community) (0.14.0)\n",
            "Requirement already satisfied: jsonpointer>=1.9 in /usr/local/lib/python3.10/dist-packages (from jsonpatch<2.0,>=1.33->langchain-core<0.3.0,>=0.2.38->langchain_community) (3.0.0)\n",
            "Requirement already satisfied: annotated-types>=0.4.0 in /usr/local/lib/python3.10/dist-packages (from pydantic<3,>=1->langchain<0.3.0,>=0.2.16->langchain_community) (0.7.0)\n",
            "Requirement already satisfied: pydantic-core==2.20.1 in /usr/local/lib/python3.10/dist-packages (from pydantic<3,>=1->langchain<0.3.0,>=0.2.16->langchain_community) (2.20.1)\n",
            "Requirement already satisfied: mypy-extensions>=0.3.0 in /usr/local/lib/python3.10/dist-packages (from typing-inspect<1,>=0.4.0->dataclasses-json<0.7,>=0.5.7->langchain_community) (1.0.0)\n",
            "Requirement already satisfied: exceptiongroup in /usr/local/lib/python3.10/dist-packages (from anyio->httpx<1,>=0.23.0->langsmith<0.2.0,>=0.1.0->langchain_community) (1.2.2)\n"
          ]
        }
      ],
      "source": [
        "!pip install langchain_community"
      ]
    },
    {
      "cell_type": "code",
      "execution_count": 135,
      "metadata": {
        "id": "GCujipkn4gGT"
      },
      "outputs": [],
      "source": [
        "from langchain_community.tools.tavily_search import TavilySearchResults\n",
        "from langchain_core.messages import HumanMessage"
      ]
    },
    {
      "cell_type": "code",
      "execution_count": 136,
      "metadata": {
        "id": "nO8VHj5E5L92"
      },
      "outputs": [],
      "source": [
        "memory =  MemorySaver()"
      ]
    },
    {
      "cell_type": "code",
      "execution_count": 137,
      "metadata": {
        "id": "qXtzTzl36kYK"
      },
      "outputs": [],
      "source": [
        "# connecting tavily with  langchain\n",
        "import os\n",
        "os.environ[\"TAVILY_API_KEY\"] = \"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\""
      ]
    },
    {
      "cell_type": "code",
      "execution_count": 138,
      "metadata": {
        "id": "mlpCW_IM56t3"
      },
      "outputs": [],
      "source": [
        "search = TavilySearchResults(max_results=2)"
      ]
    },
    {
      "cell_type": "code",
      "execution_count": 139,
      "metadata": {
        "colab": {
          "base_uri": "https://localhost:8080/"
        },
        "id": "bSLMFLo56Ebl",
        "outputId": "7100c047-3f67-4ebb-b7b7-a244a3515ff9"
      },
      "outputs": [
        {
          "data": {
            "text/plain": [
              "TavilySearchResults(max_results=2)"
            ]
          },
          "execution_count": 139,
          "metadata": {},
          "output_type": "execute_result"
        }
      ],
      "source": [
        "search"
      ]
    },
    {
      "cell_type": "code",
      "execution_count": 140,
      "metadata": {
        "id": "q3KZLFD77_vg"
      },
      "outputs": [],
      "source": [
        "tools = [search]"
      ]
    },
    {
      "cell_type": "markdown",
      "metadata": {
        "id": "BJnGtAdg8sbC"
      },
      "source": [
        "## **A ReAct agent (short for Reasoning + Acting) refers to an AI approach that combines reasoning and acting in a unified framework to interact with environments, solve tasks, and use external tools (like APIs or knowledge bases). ReAct agents are typically used in natural language processing (NLP), AI assistants, and autonomous decision-making systems, where reasoning and action are both critical.**"
      ]
    },
    {
      "cell_type": "code",
      "execution_count": 141,
      "metadata": {
        "colab": {
          "base_uri": "https://localhost:8080/"
        },
        "id": "szZ73hql8GmE",
        "outputId": "48ac6444-1d81-4530-f773-87e876eb91ce"
      },
      "outputs": [
        {
          "data": {
            "text/plain": [
              "[TavilySearchResults(max_results=2)]"
            ]
          },
          "execution_count": 141,
          "metadata": {},
          "output_type": "execute_result"
        }
      ],
      "source": [
        "tools"
      ]
    },
    {
      "cell_type": "code",
      "execution_count": 142,
      "metadata": {
        "colab": {
          "base_uri": "https://localhost:8080/"
        },
        "id": "ryDEuaCQ9Tdh",
        "outputId": "11be332c-d375-4d50-8cf1-7096679d59fe"
      },
      "outputs": [
        {
          "name": "stderr",
          "output_type": "stream",
          "text": [
            "WARNING:langchain_google_genai._function_utils:Key 'title' is not supported in schema, ignoring\n",
            "WARNING:langchain_google_genai._function_utils:Key 'title' is not supported in schema, ignoring\n"
          ]
        }
      ],
      "source": [
        "agent_executor =  create_react_agent(model , tools , checkpointer= memory)"
      ]
    },
    {
      "cell_type": "code",
      "execution_count": 143,
      "metadata": {
        "id": "TOrbTCAW9eiT"
      },
      "outputs": [],
      "source": [
        "config = {\"configurable\" : {\"thread_id\" : \"abc_123\"}}"
      ]
    },
    {
      "cell_type": "code",
      "execution_count": 144,
      "metadata": {
        "colab": {
          "base_uri": "https://localhost:8080/"
        },
        "id": "Ae459xbr_oVG",
        "outputId": "246bf2d6-58ee-4388-c7e1-28b588fb1087"
      },
      "outputs": [
        {
          "data": {
            "text/plain": [
              "{'configurable': {'thread_id': 'abc_123'}}"
            ]
          },
          "execution_count": 144,
          "metadata": {},
          "output_type": "execute_result"
        }
      ],
      "source": [
        "config"
      ]
    },
    {
      "cell_type": "code",
      "execution_count": 145,
      "metadata": {
        "id": "DddSVIis_ptZ"
      },
      "outputs": [],
      "source": [
        "prompt = [HumanMessage(content =\"hi i  am fahim. how are you ?\")]\n"
      ]
    },
    {
      "cell_type": "code",
      "execution_count": 151,
      "metadata": {
        "colab": {
          "base_uri": "https://localhost:8080/"
        },
        "id": "PLWPA0OYAQoH",
        "outputId": "4c0c87f1-2fb6-4485-ed66-f1facc6b696a"
      },
      "outputs": [
        {
          "name": "stderr",
          "output_type": "stream",
          "text": [
            "/usr/local/lib/python3.10/dist-packages/langchain_google_genai/chat_models.py:381: UserWarning: Convert_system_message_to_human will be deprecated!\n",
            "  warnings.warn(\"Convert_system_message_to_human will be deprecated!\")\n"
          ]
        },
        {
          "name": "stdout",
          "output_type": "stream",
          "text": [
            "{'agent': {'messages': [AIMessage(content='I am a tool, I do not have feelings. How can I help you with a search query?', response_metadata={'prompt_feedback': {'block_reason': 0, 'safety_ratings': []}, 'finish_reason': 'STOP', 'safety_ratings': [{'category': 'HARM_CATEGORY_SEXUALLY_EXPLICIT', 'probability': 'NEGLIGIBLE', 'blocked': False}, {'category': 'HARM_CATEGORY_HATE_SPEECH', 'probability': 'NEGLIGIBLE', 'blocked': False}, {'category': 'HARM_CATEGORY_HARASSMENT', 'probability': 'NEGLIGIBLE', 'blocked': False}, {'category': 'HARM_CATEGORY_DANGEROUS_CONTENT', 'probability': 'NEGLIGIBLE', 'blocked': False}]}, id='run-5a2a396c-a7e4-461f-9295-e0a0f7859bc8-0', usage_metadata={'input_tokens': 84, 'output_tokens': 21, 'total_tokens': 105})]}}\n"
          ]
        }
      ],
      "source": [
        "# The stream method for a CompiledStateGraph object takes **kwargs.\n",
        "# Pass the messages and config within the inputs argument\n",
        "for chunk in agent_executor.stream(\n",
        "    {\"messages\":[HumanMessage(content =\"i am fahim , how are you? \")]},\n",
        "    config=config # Pass the config dictionary here\n",
        "    ):\n",
        "    print(chunk)"
      ]
    },
    {
      "cell_type": "code",
      "execution_count": null,
      "metadata": {
        "id": "hQ1YpILoASu9"
      },
      "outputs": [],
      "source": [
        "s"
      ]
    }
  ],
  "metadata": {
    "colab": {
      "provenance": []
    },
    "kernelspec": {
      "display_name": "Python 3",
      "name": "python3"
    },
    "language_info": {
      "name": "python"
    }
  },
  "nbformat": 4,
  "nbformat_minor": 0
}
